{
 "cells": [
  {
   "cell_type": "code",
   "execution_count": 1,
   "id": "c04821c7",
   "metadata": {},
   "outputs": [],
   "source": [
    "from pyspark.sql import SparkSession, functions as f\n",
    "from pyspark.sql.types import *\n",
    "from pyspark.mllib.linalg import VectorUDT, DenseVector\n",
    "from pyspark.mllib.linalg.distributed import IndexedRow, IndexedRowMatrix\n",
    "from pyspark.sql.window import Window\n",
    "from pyspark.ml.feature import StopWordsRemover, Tokenizer, IDF, HashingTF, Normalizer\n",
    "from pyspark.ml import Pipeline\n",
    "import pandas as pd\n",
    "import json"
   ]
  },
  {
   "cell_type": "code",
   "execution_count": 2,
   "id": "5f95e978",
   "metadata": {
    "scrolled": true
   },
   "outputs": [
    {
     "name": "stderr",
     "output_type": "stream",
     "text": [
      "22/01/18 09:23:40 WARN Utils: Your hostname, HK-Nitro-AN515-51 resolves to a loopback address: 127.0.1.1; using 192.168.0.106 instead (on interface wlp2s0)\n",
      "22/01/18 09:23:40 WARN Utils: Set SPARK_LOCAL_IP if you need to bind to another address\n",
      "WARNING: An illegal reflective access operation has occurred\n",
      "WARNING: Illegal reflective access by org.apache.spark.unsafe.Platform (file:/opt/spark/jars/spark-unsafe_2.12-3.2.0.jar) to constructor java.nio.DirectByteBuffer(long,int)\n",
      "WARNING: Please consider reporting this to the maintainers of org.apache.spark.unsafe.Platform\n",
      "WARNING: Use --illegal-access=warn to enable warnings of further illegal reflective access operations\n",
      "WARNING: All illegal access operations will be denied in a future release\n",
      "Using Spark's default log4j profile: org/apache/spark/log4j-defaults.properties\n",
      "Setting default log level to \"WARN\".\n",
      "To adjust logging level use sc.setLogLevel(newLevel). For SparkR, use setLogLevel(newLevel).\n",
      "22/01/18 09:23:40 WARN NativeCodeLoader: Unable to load native-hadoop library for your platform... using builtin-java classes where applicable\n"
     ]
    }
   ],
   "source": [
    "spark = SparkSession.builder.appName(\"movieRecommendation\").getOrCreate()"
   ]
  },
  {
   "cell_type": "code",
   "execution_count": 3,
   "id": "886f99b3",
   "metadata": {},
   "outputs": [],
   "source": [
    "tmdbMoviesSchema = StructType([\n",
    "    StructField(\"budget\", LongType(), True),\n",
    "    StructField(\"genres\", StringType(), True),\n",
    "    StructField(\"homepage\", StringType(), True),\n",
    "    StructField(\"id\", StringType(), False),\n",
    "    StructField(\"keywords\", StringType(), True),\n",
    "    StructField(\"original_language\", StringType(), True),\n",
    "    StructField(\"original_title\", StringType(), True),\n",
    "    StructField(\"overview\", StringType(), True),\n",
    "    StructField(\"popularity\", FloatType(), True),\n",
    "    StructField(\"production_companies\", StringType(), True),\n",
    "    StructField(\"production_countries\", StringType(), True),\n",
    "    StructField(\"release_date\", DateType(), True),\n",
    "    StructField(\"revenue\", LongType(), True),\n",
    "    StructField(\"runtime\", IntegerType(), True),\n",
    "    StructField(\"spoken_languages\", StringType(), True),\n",
    "    StructField(\"status\", StringType(), True),\n",
    "    StructField(\"tagline\", StringType(), True),\n",
    "    StructField(\"title\", StringType(), True),\n",
    "    StructField(\"vote_average\", FloatType(), True),\n",
    "    StructField(\"vote_count\", IntegerType(), True)\n",
    "])"
   ]
  },
  {
   "cell_type": "code",
   "execution_count": 4,
   "id": "a886a47c",
   "metadata": {},
   "outputs": [],
   "source": [
    "tmdbCredits = spark.read.csv(path=\"./input/tmdb 5000 movie/tmdb_5000_credits.csv\", header=True, sep=\",\")\n",
    "tmdbMovies = spark.read.csv(path=\"./input/tmdb 5000 movie/tmdb_5000_movies.csv\", header=True, sep=\",\", quote=\"\\\"\", escape=\"\\\"\", schema=tmdbMoviesSchema)"
   ]
  },
  {
   "cell_type": "code",
   "execution_count": 5,
   "id": "c7781d2c",
   "metadata": {},
   "outputs": [],
   "source": [
    "tmdbMovies = tmdbMovies\\\n",
    ".withColumn(\"genres\", f.from_json(\"genres\", ArrayType(StructType([\n",
    "  StructField(\"id\", IntegerType(), False),\n",
    "  StructField(\"name\", StringType(), False)\n",
    "]))))\\\n",
    ".withColumn(\"keywords\", f.from_json(\"keywords\" ,ArrayType(StructType([\n",
    "  StructField(\"id\", IntegerType(), False),\n",
    "  StructField(\"name\", StringType(), False)\n",
    "]))))\\\n",
    ".drop(\"homepage\",\"production_companies\",\"production_countries\",\"revenue\",\"spoken_languages\",\"status\",\"budget\")"
   ]
  },
  {
   "cell_type": "code",
   "execution_count": 6,
   "id": "24b754a9",
   "metadata": {},
   "outputs": [
    {
     "name": "stdout",
     "output_type": "stream",
     "text": [
      "root\n",
      " |-- genres: array (nullable = true)\n",
      " |    |-- element: struct (containsNull = true)\n",
      " |    |    |-- id: integer (nullable = true)\n",
      " |    |    |-- name: string (nullable = true)\n",
      " |-- id: string (nullable = true)\n",
      " |-- keywords: array (nullable = true)\n",
      " |    |-- element: struct (containsNull = true)\n",
      " |    |    |-- id: integer (nullable = true)\n",
      " |    |    |-- name: string (nullable = true)\n",
      " |-- original_language: string (nullable = true)\n",
      " |-- original_title: string (nullable = true)\n",
      " |-- overview: string (nullable = true)\n",
      " |-- popularity: float (nullable = true)\n",
      " |-- release_date: date (nullable = true)\n",
      " |-- runtime: integer (nullable = true)\n",
      " |-- tagline: string (nullable = true)\n",
      " |-- title: string (nullable = true)\n",
      " |-- vote_average: float (nullable = true)\n",
      " |-- vote_count: integer (nullable = true)\n",
      "\n"
     ]
    },
    {
     "name": "stderr",
     "output_type": "stream",
     "text": [
      "\r",
      "[Stage 1:=============================>                             (1 + 1) / 2]\r",
      "\r",
      "                                                                                \r"
     ]
    },
    {
     "data": {
      "text/html": [
       "<div>\n",
       "<style scoped>\n",
       "    .dataframe tbody tr th:only-of-type {\n",
       "        vertical-align: middle;\n",
       "    }\n",
       "\n",
       "    .dataframe tbody tr th {\n",
       "        vertical-align: top;\n",
       "    }\n",
       "\n",
       "    .dataframe thead th {\n",
       "        text-align: right;\n",
       "    }\n",
       "</style>\n",
       "<table border=\"1\" class=\"dataframe\">\n",
       "  <thead>\n",
       "    <tr style=\"text-align: right;\">\n",
       "      <th></th>\n",
       "      <th>genres</th>\n",
       "      <th>id</th>\n",
       "      <th>keywords</th>\n",
       "      <th>original_language</th>\n",
       "      <th>original_title</th>\n",
       "      <th>overview</th>\n",
       "      <th>popularity</th>\n",
       "      <th>release_date</th>\n",
       "      <th>runtime</th>\n",
       "      <th>tagline</th>\n",
       "      <th>title</th>\n",
       "      <th>vote_average</th>\n",
       "      <th>vote_count</th>\n",
       "    </tr>\n",
       "  </thead>\n",
       "  <tbody>\n",
       "    <tr>\n",
       "      <th>0</th>\n",
       "      <td>[(28, Action), (12, Adventure), (14, Fantasy),...</td>\n",
       "      <td>19995</td>\n",
       "      <td>[(1463, culture clash), (2964, future), (3386,...</td>\n",
       "      <td>en</td>\n",
       "      <td>Avatar</td>\n",
       "      <td>In the 22nd century, a paraplegic Marine is di...</td>\n",
       "      <td>150.437576</td>\n",
       "      <td>2009-12-10</td>\n",
       "      <td>162.0</td>\n",
       "      <td>Enter the World of Pandora.</td>\n",
       "      <td>Avatar</td>\n",
       "      <td>7.2</td>\n",
       "      <td>11800</td>\n",
       "    </tr>\n",
       "    <tr>\n",
       "      <th>1</th>\n",
       "      <td>[(12, Adventure), (14, Fantasy), (28, Action)]</td>\n",
       "      <td>285</td>\n",
       "      <td>[(270, ocean), (726, drug abuse), (911, exotic...</td>\n",
       "      <td>en</td>\n",
       "      <td>Pirates of the Caribbean: At World's End</td>\n",
       "      <td>Captain Barbossa, long believed to be dead, ha...</td>\n",
       "      <td>139.082611</td>\n",
       "      <td>2007-05-19</td>\n",
       "      <td>169.0</td>\n",
       "      <td>At the end of the world, the adventure begins.</td>\n",
       "      <td>Pirates of the Caribbean: At World's End</td>\n",
       "      <td>6.9</td>\n",
       "      <td>4500</td>\n",
       "    </tr>\n",
       "    <tr>\n",
       "      <th>2</th>\n",
       "      <td>[(28, Action), (12, Adventure), (80, Crime)]</td>\n",
       "      <td>206647</td>\n",
       "      <td>[(470, spy), (818, based on novel), (4289, sec...</td>\n",
       "      <td>en</td>\n",
       "      <td>Spectre</td>\n",
       "      <td>A cryptic message from Bond’s past sends him o...</td>\n",
       "      <td>107.376785</td>\n",
       "      <td>2015-10-26</td>\n",
       "      <td>148.0</td>\n",
       "      <td>A Plan No One Escapes</td>\n",
       "      <td>Spectre</td>\n",
       "      <td>6.3</td>\n",
       "      <td>4466</td>\n",
       "    </tr>\n",
       "    <tr>\n",
       "      <th>3</th>\n",
       "      <td>[(28, Action), (80, Crime), (18, Drama), (53, ...</td>\n",
       "      <td>49026</td>\n",
       "      <td>[(849, dc comics), (853, crime fighter), (949,...</td>\n",
       "      <td>en</td>\n",
       "      <td>The Dark Knight Rises</td>\n",
       "      <td>Following the death of District Attorney Harve...</td>\n",
       "      <td>112.312950</td>\n",
       "      <td>2012-07-16</td>\n",
       "      <td>165.0</td>\n",
       "      <td>The Legend Ends</td>\n",
       "      <td>The Dark Knight Rises</td>\n",
       "      <td>7.6</td>\n",
       "      <td>9106</td>\n",
       "    </tr>\n",
       "    <tr>\n",
       "      <th>4</th>\n",
       "      <td>[(28, Action), (12, Adventure), (878, Science ...</td>\n",
       "      <td>49529</td>\n",
       "      <td>[(818, based on novel), (839, mars), (1456, me...</td>\n",
       "      <td>en</td>\n",
       "      <td>John Carter</td>\n",
       "      <td>John Carter is a war-weary, former military ca...</td>\n",
       "      <td>43.926994</td>\n",
       "      <td>2012-03-07</td>\n",
       "      <td>132.0</td>\n",
       "      <td>Lost in our world, found in another.</td>\n",
       "      <td>John Carter</td>\n",
       "      <td>6.1</td>\n",
       "      <td>2124</td>\n",
       "    </tr>\n",
       "    <tr>\n",
       "      <th>...</th>\n",
       "      <td>...</td>\n",
       "      <td>...</td>\n",
       "      <td>...</td>\n",
       "      <td>...</td>\n",
       "      <td>...</td>\n",
       "      <td>...</td>\n",
       "      <td>...</td>\n",
       "      <td>...</td>\n",
       "      <td>...</td>\n",
       "      <td>...</td>\n",
       "      <td>...</td>\n",
       "      <td>...</td>\n",
       "      <td>...</td>\n",
       "    </tr>\n",
       "    <tr>\n",
       "      <th>4798</th>\n",
       "      <td>[(28, Action), (80, Crime), (53, Thriller)]</td>\n",
       "      <td>9367</td>\n",
       "      <td>[(5616, united states–mexico barrier), (33649,...</td>\n",
       "      <td>es</td>\n",
       "      <td>El Mariachi</td>\n",
       "      <td>El Mariachi just wants to play his guitar and ...</td>\n",
       "      <td>14.269792</td>\n",
       "      <td>1992-09-04</td>\n",
       "      <td>81.0</td>\n",
       "      <td>He didn't come looking for trouble, but troubl...</td>\n",
       "      <td>El Mariachi</td>\n",
       "      <td>6.6</td>\n",
       "      <td>238</td>\n",
       "    </tr>\n",
       "    <tr>\n",
       "      <th>4799</th>\n",
       "      <td>[(35, Comedy), (10749, Romance)]</td>\n",
       "      <td>72766</td>\n",
       "      <td>[]</td>\n",
       "      <td>en</td>\n",
       "      <td>Newlyweds</td>\n",
       "      <td>A newlywed couple's honeymoon is upended by th...</td>\n",
       "      <td>0.642552</td>\n",
       "      <td>2011-12-26</td>\n",
       "      <td>85.0</td>\n",
       "      <td>A newlywed couple's honeymoon is upended by th...</td>\n",
       "      <td>Newlyweds</td>\n",
       "      <td>5.9</td>\n",
       "      <td>5</td>\n",
       "    </tr>\n",
       "    <tr>\n",
       "      <th>4800</th>\n",
       "      <td>[(35, Comedy), (18, Drama), (10749, Romance), ...</td>\n",
       "      <td>231617</td>\n",
       "      <td>[(248, date), (699, love at first sight), (239...</td>\n",
       "      <td>en</td>\n",
       "      <td>Signed, Sealed, Delivered</td>\n",
       "      <td>\"Signed, Sealed, Delivered\" introduces a dedic...</td>\n",
       "      <td>1.444476</td>\n",
       "      <td>2013-10-13</td>\n",
       "      <td>120.0</td>\n",
       "      <td>None</td>\n",
       "      <td>Signed, Sealed, Delivered</td>\n",
       "      <td>7.0</td>\n",
       "      <td>6</td>\n",
       "    </tr>\n",
       "    <tr>\n",
       "      <th>4801</th>\n",
       "      <td>[]</td>\n",
       "      <td>126186</td>\n",
       "      <td>[]</td>\n",
       "      <td>en</td>\n",
       "      <td>Shanghai Calling</td>\n",
       "      <td>When ambitious New York attorney Sam is sent t...</td>\n",
       "      <td>0.857008</td>\n",
       "      <td>2012-05-03</td>\n",
       "      <td>98.0</td>\n",
       "      <td>A New Yorker in Shanghai</td>\n",
       "      <td>Shanghai Calling</td>\n",
       "      <td>5.7</td>\n",
       "      <td>7</td>\n",
       "    </tr>\n",
       "    <tr>\n",
       "      <th>4802</th>\n",
       "      <td>[(99, Documentary)]</td>\n",
       "      <td>25975</td>\n",
       "      <td>[(1523, obsession), (2249, camcorder), (9986, ...</td>\n",
       "      <td>en</td>\n",
       "      <td>My Date with Drew</td>\n",
       "      <td>Ever since the second grade when he first saw ...</td>\n",
       "      <td>1.929883</td>\n",
       "      <td>2005-08-05</td>\n",
       "      <td>90.0</td>\n",
       "      <td>None</td>\n",
       "      <td>My Date with Drew</td>\n",
       "      <td>6.3</td>\n",
       "      <td>16</td>\n",
       "    </tr>\n",
       "  </tbody>\n",
       "</table>\n",
       "<p>4803 rows × 13 columns</p>\n",
       "</div>"
      ],
      "text/plain": [
       "                                                 genres      id  \\\n",
       "0     [(28, Action), (12, Adventure), (14, Fantasy),...   19995   \n",
       "1        [(12, Adventure), (14, Fantasy), (28, Action)]     285   \n",
       "2          [(28, Action), (12, Adventure), (80, Crime)]  206647   \n",
       "3     [(28, Action), (80, Crime), (18, Drama), (53, ...   49026   \n",
       "4     [(28, Action), (12, Adventure), (878, Science ...   49529   \n",
       "...                                                 ...     ...   \n",
       "4798        [(28, Action), (80, Crime), (53, Thriller)]    9367   \n",
       "4799                   [(35, Comedy), (10749, Romance)]   72766   \n",
       "4800  [(35, Comedy), (18, Drama), (10749, Romance), ...  231617   \n",
       "4801                                                 []  126186   \n",
       "4802                                [(99, Documentary)]   25975   \n",
       "\n",
       "                                               keywords original_language  \\\n",
       "0     [(1463, culture clash), (2964, future), (3386,...                en   \n",
       "1     [(270, ocean), (726, drug abuse), (911, exotic...                en   \n",
       "2     [(470, spy), (818, based on novel), (4289, sec...                en   \n",
       "3     [(849, dc comics), (853, crime fighter), (949,...                en   \n",
       "4     [(818, based on novel), (839, mars), (1456, me...                en   \n",
       "...                                                 ...               ...   \n",
       "4798  [(5616, united states–mexico barrier), (33649,...                es   \n",
       "4799                                                 []                en   \n",
       "4800  [(248, date), (699, love at first sight), (239...                en   \n",
       "4801                                                 []                en   \n",
       "4802  [(1523, obsession), (2249, camcorder), (9986, ...                en   \n",
       "\n",
       "                                original_title  \\\n",
       "0                                       Avatar   \n",
       "1     Pirates of the Caribbean: At World's End   \n",
       "2                                      Spectre   \n",
       "3                        The Dark Knight Rises   \n",
       "4                                  John Carter   \n",
       "...                                        ...   \n",
       "4798                               El Mariachi   \n",
       "4799                                 Newlyweds   \n",
       "4800                 Signed, Sealed, Delivered   \n",
       "4801                          Shanghai Calling   \n",
       "4802                         My Date with Drew   \n",
       "\n",
       "                                               overview  popularity  \\\n",
       "0     In the 22nd century, a paraplegic Marine is di...  150.437576   \n",
       "1     Captain Barbossa, long believed to be dead, ha...  139.082611   \n",
       "2     A cryptic message from Bond’s past sends him o...  107.376785   \n",
       "3     Following the death of District Attorney Harve...  112.312950   \n",
       "4     John Carter is a war-weary, former military ca...   43.926994   \n",
       "...                                                 ...         ...   \n",
       "4798  El Mariachi just wants to play his guitar and ...   14.269792   \n",
       "4799  A newlywed couple's honeymoon is upended by th...    0.642552   \n",
       "4800  \"Signed, Sealed, Delivered\" introduces a dedic...    1.444476   \n",
       "4801  When ambitious New York attorney Sam is sent t...    0.857008   \n",
       "4802  Ever since the second grade when he first saw ...    1.929883   \n",
       "\n",
       "     release_date  runtime                                            tagline  \\\n",
       "0      2009-12-10    162.0                        Enter the World of Pandora.   \n",
       "1      2007-05-19    169.0     At the end of the world, the adventure begins.   \n",
       "2      2015-10-26    148.0                              A Plan No One Escapes   \n",
       "3      2012-07-16    165.0                                    The Legend Ends   \n",
       "4      2012-03-07    132.0               Lost in our world, found in another.   \n",
       "...           ...      ...                                                ...   \n",
       "4798   1992-09-04     81.0  He didn't come looking for trouble, but troubl...   \n",
       "4799   2011-12-26     85.0  A newlywed couple's honeymoon is upended by th...   \n",
       "4800   2013-10-13    120.0                                               None   \n",
       "4801   2012-05-03     98.0                           A New Yorker in Shanghai   \n",
       "4802   2005-08-05     90.0                                               None   \n",
       "\n",
       "                                         title  vote_average  vote_count  \n",
       "0                                       Avatar           7.2       11800  \n",
       "1     Pirates of the Caribbean: At World's End           6.9        4500  \n",
       "2                                      Spectre           6.3        4466  \n",
       "3                        The Dark Knight Rises           7.6        9106  \n",
       "4                                  John Carter           6.1        2124  \n",
       "...                                        ...           ...         ...  \n",
       "4798                               El Mariachi           6.6         238  \n",
       "4799                                 Newlyweds           5.9           5  \n",
       "4800                 Signed, Sealed, Delivered           7.0           6  \n",
       "4801                          Shanghai Calling           5.7           7  \n",
       "4802                         My Date with Drew           6.3          16  \n",
       "\n",
       "[4803 rows x 13 columns]"
      ]
     },
     "execution_count": 6,
     "metadata": {},
     "output_type": "execute_result"
    }
   ],
   "source": [
    "tmdbMovies.printSchema()\n",
    "tmdbMovies.toPandas()"
   ]
  },
  {
   "cell_type": "code",
   "execution_count": 7,
   "id": "1f64e78f",
   "metadata": {},
   "outputs": [
    {
     "name": "stdout",
     "output_type": "stream",
     "text": [
      "+--------+-------+\n",
      "|overview|tagline|\n",
      "+--------+-------+\n",
      "|       0|      0|\n",
      "+--------+-------+\n",
      "\n"
     ]
    }
   ],
   "source": [
    "tmdbMovies = tmdbMovies.na.fill(value=\"\",subset=\"overview\")\n",
    "tmdbMovies = tmdbMovies.na.fill(value=\"\",subset=\"tagline\")\n",
    "\n",
    "tmdbMovies.select([f.count(f.when(f.isnan(c) | f.col(c).isNull(), c)).alias(c) for c in tmdbMovies.select(\"overview\",\"tagline\").columns]).show()"
   ]
  },
  {
   "cell_type": "code",
   "execution_count": 44,
   "id": "21239f8e",
   "metadata": {},
   "outputs": [
    {
     "name": "stdout",
     "output_type": "stream",
     "text": [
      "Genres\n",
      "+-----+---------------+\n",
      "|   id|           name|\n",
      "+-----+---------------+\n",
      "|  878|Science Fiction|\n",
      "|   28|         Action|\n",
      "|   35|         Comedy|\n",
      "| 9648|        Mystery|\n",
      "|10769|        Foreign|\n",
      "|   36|        History|\n",
      "|   27|         Horror|\n",
      "|10751|         Family|\n",
      "|   16|      Animation|\n",
      "|   18|          Drama|\n",
      "|10749|        Romance|\n",
      "|   14|        Fantasy|\n",
      "|10770|       TV Movie|\n",
      "|   37|        Western|\n",
      "|10752|            War|\n",
      "|   53|       Thriller|\n",
      "|   99|    Documentary|\n",
      "|   12|      Adventure|\n",
      "|   80|          Crime|\n",
      "|10402|          Music|\n",
      "+-----+---------------+\n",
      "\n",
      "Movie-Genre\n",
      "+--------+--------+\n",
      "|movie_id|genre_id|\n",
      "+--------+--------+\n",
      "|   19995|      28|\n",
      "|   19995|      12|\n",
      "|   19995|      14|\n",
      "|   19995|     878|\n",
      "|     285|      12|\n",
      "|     285|      14|\n",
      "|     285|      28|\n",
      "|  206647|      28|\n",
      "|  206647|      12|\n",
      "|  206647|      80|\n",
      "|   49026|      28|\n",
      "|   49026|      80|\n",
      "|   49026|      18|\n",
      "|   49026|      53|\n",
      "|   49529|      28|\n",
      "|   49529|      12|\n",
      "|   49529|     878|\n",
      "|     559|      14|\n",
      "|     559|      28|\n",
      "|     559|      12|\n",
      "+--------+--------+\n",
      "only showing top 20 rows\n",
      "\n"
     ]
    }
   ],
   "source": [
    "movies_genres = tmdbMovies.select(f.col(\"id\").alias(\"movie_id\"), f.explode(\"genres.id\").alias(\"genre_id\"))\n",
    "genres = tmdbMovies.withColumn(\"genres\", f.explode(\"genres\"))\\\n",
    ".select(f.col(\"genres.id\").alias(\"id\"), f.col(\"genres.name\").alias(\"name\"))\\\n",
    ".distinct()\n",
    "\n",
    "print(\"Genres\")\n",
    "genres.show()\n",
    "\n",
    "print(\"Movie-Genre\")\n",
    "movies_genres.show()"
   ]
  },
  {
   "cell_type": "code",
   "execution_count": 45,
   "id": "70c34d00",
   "metadata": {},
   "outputs": [],
   "source": [
    "genres.toPandas()\\\n",
    ".to_csv(\"/home/hoangkhang/Projects/movies-recommendation/backend/data/genres.csv\", index = False)\n",
    "\n",
    "movies_genres.toPandas()\\\n",
    ".to_csv(\"/home/hoangkhang/Projects/movies-recommendation/backend/data/movies_genres.csv\", index = True, index_label=\"id\")"
   ]
  },
  {
   "cell_type": "code",
   "execution_count": 46,
   "id": "05cd2bbf",
   "metadata": {},
   "outputs": [
    {
     "name": "stdout",
     "output_type": "stream",
     "text": [
      "Movie-Keyword\n",
      "+--------+----------+\n",
      "|movie_id|keyword_id|\n",
      "+--------+----------+\n",
      "|   19995|      1463|\n",
      "|   19995|      2964|\n",
      "|   19995|      3386|\n",
      "|   19995|      3388|\n",
      "|   19995|      3679|\n",
      "|   19995|      3801|\n",
      "|   19995|      9685|\n",
      "|   19995|      9840|\n",
      "|   19995|      9882|\n",
      "|   19995|      9951|\n",
      "|   19995|     10148|\n",
      "|   19995|     10158|\n",
      "|   19995|     10987|\n",
      "|   19995|     11399|\n",
      "|   19995|     13065|\n",
      "|   19995|     14643|\n",
      "|   19995|     14720|\n",
      "|   19995|    165431|\n",
      "|   19995|    193554|\n",
      "|   19995|    206690|\n",
      "+--------+----------+\n",
      "only showing top 20 rows\n",
      "\n",
      "Keyword (Max length 48)\n",
      "+------+--------------------+\n",
      "|    id|                 key|\n",
      "+------+--------------------+\n",
      "|  1585|               snake|\n",
      "| 13084|                king|\n",
      "|163014|      injured animal|\n",
      "| 15167|    police detective|\n",
      "|161868|child's point of ...|\n",
      "|  3298|       hallucination|\n",
      "|  1334|        wedding vows|\n",
      "|159548|            clouseau|\n",
      "|  2564|          wheelchair|\n",
      "|  2406|              picnic|\n",
      "|  3487|           assistant|\n",
      "|167642|         crop circle|\n",
      "|186425|        demon hunter|\n",
      "|162380|          ex soldier|\n",
      "|178378|       driving range|\n",
      "|  3012|          court case|\n",
      "|165461|               march|\n",
      "|162410|    exploding planet|\n",
      "|195162|      record company|\n",
      "| 12372|       lingerie slip|\n",
      "+------+--------------------+\n",
      "only showing top 20 rows\n",
      "\n"
     ]
    }
   ],
   "source": [
    "movies_keywords = tmdbMovies.select(f.col(\"id\").alias(\"movie_id\"), f.explode(\"keywords.id\").alias(\"keyword_id\"))\n",
    "keywords = tmdbMovies.withColumn(\"keywords\", f.explode(\"keywords\"))\\\n",
    ".select(f.col(\"keywords.id\").alias(\"id\"), f.col(\"keywords.name\").alias(\"key\"))\\\n",
    ".distinct()\n",
    "maxLengthKeyword = keywords.agg(f.max(f.length(f.col(\"key\"))).alias(\"max length\")).collect()[0][0]\n",
    "\n",
    "print(\"Movie-Keyword\")\n",
    "movies_keywords.show()\n",
    "\n",
    "print(f\"Keyword (Max length {maxLengthKeyword})\")\n",
    "keywords.show()"
   ]
  },
  {
   "cell_type": "code",
   "execution_count": 14,
   "id": "94d68fa3",
   "metadata": {},
   "outputs": [],
   "source": [
    "keywords.toPandas()\\\n",
    ".to_csv(\"/home/hoangkhang/Projects/movies-recommendation/backend/data/keywords.csv\", index = False)\n",
    "\n",
    "movies_keywords.toPandas()\\\n",
    ".to_csv(\"/home/hoangkhang/Projects/movies-recommendation/backend/data/movies_keywords.csv\", index = True, index_label=\"id\")"
   ]
  },
  {
   "cell_type": "code",
   "execution_count": 47,
   "id": "2d8cd0e0",
   "metadata": {
    "scrolled": true
   },
   "outputs": [
    {
     "name": "stdout",
     "output_type": "stream",
     "text": [
      "+------+-------------------------------------------+----------+------------+\n",
      "|id    |title                                      |vote_count|vote_average|\n",
      "+------+-------------------------------------------+----------+------------+\n",
      "|19995 |Avatar                                     |11800     |7.2         |\n",
      "|285   |Pirates of the Caribbean: At World's End   |4500      |6.9         |\n",
      "|206647|Spectre                                    |4466      |6.3         |\n",
      "|49026 |The Dark Knight Rises                      |9106      |7.6         |\n",
      "|49529 |John Carter                                |2124      |6.1         |\n",
      "|559   |Spider-Man 3                               |3576      |5.9         |\n",
      "|38757 |Tangled                                    |3330      |7.4         |\n",
      "|99861 |Avengers: Age of Ultron                    |6767      |7.3         |\n",
      "|767   |Harry Potter and the Half-Blood Prince     |5293      |7.4         |\n",
      "|209112|Batman v Superman: Dawn of Justice         |7004      |5.7         |\n",
      "|1452  |Superman Returns                           |1400      |5.4         |\n",
      "|10764 |Quantum of Solace                          |2965      |6.1         |\n",
      "|58    |Pirates of the Caribbean: Dead Man's Chest |5246      |7.0         |\n",
      "|57201 |The Lone Ranger                            |2311      |5.9         |\n",
      "|49521 |Man of Steel                               |6359      |6.5         |\n",
      "|2454  |The Chronicles of Narnia: Prince Caspian   |1630      |6.3         |\n",
      "|24428 |The Avengers                               |11776     |7.4         |\n",
      "|1865  |Pirates of the Caribbean: On Stranger Tides|4948      |6.4         |\n",
      "|41154 |Men in Black 3                             |4160      |6.2         |\n",
      "|122917|The Hobbit: The Battle of the Five Armies  |4760      |7.1         |\n",
      "+------+-------------------------------------------+----------+------------+\n",
      "only showing top 20 rows\n",
      "\n"
     ]
    }
   ],
   "source": [
    "tmdbMovies.select(\"id\",\"title\",\"vote_count\",\"vote_average\").show(truncate=False)"
   ]
  },
  {
   "cell_type": "code",
   "execution_count": 81,
   "id": "51e1a4b0",
   "metadata": {},
   "outputs": [
    {
     "data": {
      "text/plain": [
       "6.092171562405494"
      ]
     },
     "execution_count": 81,
     "metadata": {},
     "output_type": "execute_result"
    }
   ],
   "source": [
    "C = tmdbMovies.select(f.avg(\"vote_average\")).collect()[0][0]\n",
    "C"
   ]
  },
  {
   "cell_type": "code",
   "execution_count": 87,
   "id": "e59c1855",
   "metadata": {},
   "outputs": [
    {
     "data": {
      "text/plain": [
       "370.0"
      ]
     },
     "execution_count": 87,
     "metadata": {},
     "output_type": "execute_result"
    }
   ],
   "source": [
    "m = tmdbMovies.approxQuantile(\"vote_count\",[0.6], 0)[0]\n",
    "m"
   ]
  },
  {
   "cell_type": "code",
   "execution_count": 88,
   "id": "2cfd2edc",
   "metadata": {},
   "outputs": [],
   "source": [
    "@f.udf\n",
    "def weighted_rating(v, R, m = m, C = C):\n",
    "    return (v/(v+m) * R) + (m/(m+v) * C)"
   ]
  },
  {
   "cell_type": "code",
   "execution_count": 89,
   "id": "381f80ca",
   "metadata": {
    "scrolled": true
   },
   "outputs": [
    {
     "name": "stdout",
     "output_type": "stream",
     "text": [
      "root\n",
      " |-- genres: array (nullable = true)\n",
      " |    |-- element: struct (containsNull = true)\n",
      " |    |    |-- id: integer (nullable = true)\n",
      " |    |    |-- name: string (nullable = true)\n",
      " |-- id: string (nullable = true)\n",
      " |-- keywords: array (nullable = true)\n",
      " |    |-- element: struct (containsNull = true)\n",
      " |    |    |-- id: integer (nullable = true)\n",
      " |    |    |-- name: string (nullable = true)\n",
      " |-- original_language: string (nullable = true)\n",
      " |-- original_title: string (nullable = true)\n",
      " |-- overview: string (nullable = true)\n",
      " |-- popularity: float (nullable = true)\n",
      " |-- release_date: date (nullable = true)\n",
      " |-- runtime: integer (nullable = true)\n",
      " |-- tagline: string (nullable = true)\n",
      " |-- title: string (nullable = true)\n",
      " |-- vote_average: float (nullable = true)\n",
      " |-- vote_count: integer (nullable = true)\n",
      " |-- rating: float (nullable = true)\n",
      "\n"
     ]
    }
   ],
   "source": [
    "movies = tmdbMovies\\\n",
    ".withColumn(\"rating\", weighted_rating(\"vote_count\", \"vote_average\").cast(\"float\"))\\\n",
    ".orderBy(\"rating\", ascending=0)\n",
    "\n",
    "movies.printSchema()"
   ]
  },
  {
   "cell_type": "code",
   "execution_count": 90,
   "id": "b2809328",
   "metadata": {},
   "outputs": [
    {
     "data": {
      "text/html": [
       "<div>\n",
       "<style scoped>\n",
       "    .dataframe tbody tr th:only-of-type {\n",
       "        vertical-align: middle;\n",
       "    }\n",
       "\n",
       "    .dataframe tbody tr th {\n",
       "        vertical-align: top;\n",
       "    }\n",
       "\n",
       "    .dataframe thead th {\n",
       "        text-align: right;\n",
       "    }\n",
       "</style>\n",
       "<table border=\"1\" class=\"dataframe\">\n",
       "  <thead>\n",
       "    <tr style=\"text-align: right;\">\n",
       "      <th></th>\n",
       "      <th>id</th>\n",
       "      <th>title</th>\n",
       "      <th>original_language</th>\n",
       "      <th>overview</th>\n",
       "      <th>popularity</th>\n",
       "      <th>release_date</th>\n",
       "      <th>runtime</th>\n",
       "      <th>tagline</th>\n",
       "      <th>vote_count</th>\n",
       "      <th>rating</th>\n",
       "    </tr>\n",
       "  </thead>\n",
       "  <tbody>\n",
       "    <tr>\n",
       "      <th>0</th>\n",
       "      <td>278</td>\n",
       "      <td>The Shawshank Redemption</td>\n",
       "      <td>en</td>\n",
       "      <td>Framed in the 1940s for the double murder of h...</td>\n",
       "      <td>136.747726</td>\n",
       "      <td>1994-09-23</td>\n",
       "      <td>142.0</td>\n",
       "      <td>Fear can hold you prisoner. Hope can set you f...</td>\n",
       "      <td>8205</td>\n",
       "      <td>8.40</td>\n",
       "    </tr>\n",
       "    <tr>\n",
       "      <th>1</th>\n",
       "      <td>238</td>\n",
       "      <td>The Godfather</td>\n",
       "      <td>en</td>\n",
       "      <td>Spanning the years 1945 to 1955, a chronicle o...</td>\n",
       "      <td>143.659698</td>\n",
       "      <td>1972-03-14</td>\n",
       "      <td>175.0</td>\n",
       "      <td>An offer you can't refuse.</td>\n",
       "      <td>5893</td>\n",
       "      <td>8.26</td>\n",
       "    </tr>\n",
       "    <tr>\n",
       "      <th>2</th>\n",
       "      <td>550</td>\n",
       "      <td>Fight Club</td>\n",
       "      <td>en</td>\n",
       "      <td>A ticking-time-bomb insomniac and a slippery s...</td>\n",
       "      <td>146.757385</td>\n",
       "      <td>1999-10-15</td>\n",
       "      <td>139.0</td>\n",
       "      <td>Mischief. Mayhem. Soap.</td>\n",
       "      <td>9413</td>\n",
       "      <td>8.22</td>\n",
       "    </tr>\n",
       "    <tr>\n",
       "      <th>3</th>\n",
       "      <td>680</td>\n",
       "      <td>Pulp Fiction</td>\n",
       "      <td>en</td>\n",
       "      <td>A burger-loving hit man, his philosophical par...</td>\n",
       "      <td>121.463074</td>\n",
       "      <td>1994-10-08</td>\n",
       "      <td>154.0</td>\n",
       "      <td>Just because you are a character doesn't mean ...</td>\n",
       "      <td>8428</td>\n",
       "      <td>8.21</td>\n",
       "    </tr>\n",
       "    <tr>\n",
       "      <th>4</th>\n",
       "      <td>155</td>\n",
       "      <td>The Dark Knight</td>\n",
       "      <td>en</td>\n",
       "      <td>Batman raises the stakes in his war on crime. ...</td>\n",
       "      <td>187.322922</td>\n",
       "      <td>2008-07-16</td>\n",
       "      <td>152.0</td>\n",
       "      <td>Why So Serious?</td>\n",
       "      <td>12002</td>\n",
       "      <td>8.14</td>\n",
       "    </tr>\n",
       "    <tr>\n",
       "      <th>...</th>\n",
       "      <td>...</td>\n",
       "      <td>...</td>\n",
       "      <td>...</td>\n",
       "      <td>...</td>\n",
       "      <td>...</td>\n",
       "      <td>...</td>\n",
       "      <td>...</td>\n",
       "      <td>...</td>\n",
       "      <td>...</td>\n",
       "      <td>...</td>\n",
       "    </tr>\n",
       "    <tr>\n",
       "      <th>4798</th>\n",
       "      <td>9760</td>\n",
       "      <td>Epic Movie</td>\n",
       "      <td>en</td>\n",
       "      <td>When Edward, Peter, Lucy and Susan each follow...</td>\n",
       "      <td>6.064638</td>\n",
       "      <td>2007-01-25</td>\n",
       "      <td>86.0</td>\n",
       "      <td>We know it's big. We measured.</td>\n",
       "      <td>326</td>\n",
       "      <td>4.74</td>\n",
       "    </tr>\n",
       "    <tr>\n",
       "      <th>4799</th>\n",
       "      <td>166424</td>\n",
       "      <td>Fantastic Four</td>\n",
       "      <td>en</td>\n",
       "      <td>Four young outsiders teleport to a dangerous u...</td>\n",
       "      <td>38.126095</td>\n",
       "      <td>2015-08-05</td>\n",
       "      <td>100.0</td>\n",
       "      <td>Change is coming.</td>\n",
       "      <td>2278</td>\n",
       "      <td>4.64</td>\n",
       "    </tr>\n",
       "    <tr>\n",
       "      <th>4800</th>\n",
       "      <td>241251</td>\n",
       "      <td>The Boy Next Door</td>\n",
       "      <td>en</td>\n",
       "      <td>A recently cheated on married woman falls for ...</td>\n",
       "      <td>24.161736</td>\n",
       "      <td>2015-01-23</td>\n",
       "      <td>91.0</td>\n",
       "      <td>A Moment She Couldn't Resist. An Obsession He ...</td>\n",
       "      <td>1022</td>\n",
       "      <td>4.63</td>\n",
       "    </tr>\n",
       "    <tr>\n",
       "      <th>4801</th>\n",
       "      <td>415</td>\n",
       "      <td>Batman &amp; Robin</td>\n",
       "      <td>en</td>\n",
       "      <td>Along with crime-fighting partner Robin and ne...</td>\n",
       "      <td>50.073574</td>\n",
       "      <td>1997-06-20</td>\n",
       "      <td>125.0</td>\n",
       "      <td>Strength. Courage. Honor. And loyalty.</td>\n",
       "      <td>1418</td>\n",
       "      <td>4.59</td>\n",
       "    </tr>\n",
       "    <tr>\n",
       "      <th>4802</th>\n",
       "      <td>14164</td>\n",
       "      <td>Dragonball Evolution</td>\n",
       "      <td>en</td>\n",
       "      <td>The young warrior Son Goku sets out on a quest...</td>\n",
       "      <td>21.677732</td>\n",
       "      <td>2009-04-01</td>\n",
       "      <td>85.0</td>\n",
       "      <td>The legend comes to life.</td>\n",
       "      <td>462</td>\n",
       "      <td>4.32</td>\n",
       "    </tr>\n",
       "  </tbody>\n",
       "</table>\n",
       "<p>4803 rows × 10 columns</p>\n",
       "</div>"
      ],
      "text/plain": [
       "          id                     title original_language  \\\n",
       "0        278  The Shawshank Redemption                en   \n",
       "1        238             The Godfather                en   \n",
       "2        550                Fight Club                en   \n",
       "3        680              Pulp Fiction                en   \n",
       "4        155           The Dark Knight                en   \n",
       "...      ...                       ...               ...   \n",
       "4798    9760                Epic Movie                en   \n",
       "4799  166424            Fantastic Four                en   \n",
       "4800  241251         The Boy Next Door                en   \n",
       "4801     415            Batman & Robin                en   \n",
       "4802   14164      Dragonball Evolution                en   \n",
       "\n",
       "                                               overview  popularity  \\\n",
       "0     Framed in the 1940s for the double murder of h...  136.747726   \n",
       "1     Spanning the years 1945 to 1955, a chronicle o...  143.659698   \n",
       "2     A ticking-time-bomb insomniac and a slippery s...  146.757385   \n",
       "3     A burger-loving hit man, his philosophical par...  121.463074   \n",
       "4     Batman raises the stakes in his war on crime. ...  187.322922   \n",
       "...                                                 ...         ...   \n",
       "4798  When Edward, Peter, Lucy and Susan each follow...    6.064638   \n",
       "4799  Four young outsiders teleport to a dangerous u...   38.126095   \n",
       "4800  A recently cheated on married woman falls for ...   24.161736   \n",
       "4801  Along with crime-fighting partner Robin and ne...   50.073574   \n",
       "4802  The young warrior Son Goku sets out on a quest...   21.677732   \n",
       "\n",
       "     release_date  runtime                                            tagline  \\\n",
       "0      1994-09-23    142.0  Fear can hold you prisoner. Hope can set you f...   \n",
       "1      1972-03-14    175.0                         An offer you can't refuse.   \n",
       "2      1999-10-15    139.0                            Mischief. Mayhem. Soap.   \n",
       "3      1994-10-08    154.0  Just because you are a character doesn't mean ...   \n",
       "4      2008-07-16    152.0                                    Why So Serious?   \n",
       "...           ...      ...                                                ...   \n",
       "4798   2007-01-25     86.0                     We know it's big. We measured.   \n",
       "4799   2015-08-05    100.0                                  Change is coming.   \n",
       "4800   2015-01-23     91.0  A Moment She Couldn't Resist. An Obsession He ...   \n",
       "4801   1997-06-20    125.0             Strength. Courage. Honor. And loyalty.   \n",
       "4802   2009-04-01     85.0                          The legend comes to life.   \n",
       "\n",
       "      vote_count  rating  \n",
       "0           8205    8.40  \n",
       "1           5893    8.26  \n",
       "2           9413    8.22  \n",
       "3           8428    8.21  \n",
       "4          12002    8.14  \n",
       "...          ...     ...  \n",
       "4798         326    4.74  \n",
       "4799        2278    4.64  \n",
       "4800        1022    4.63  \n",
       "4801        1418    4.59  \n",
       "4802         462    4.32  \n",
       "\n",
       "[4803 rows x 10 columns]"
      ]
     },
     "execution_count": 90,
     "metadata": {},
     "output_type": "execute_result"
    }
   ],
   "source": [
    "movies = movies\\\n",
    ".withColumn(\"rating\", f.round(f.col(\"rating\"),2))\\\n",
    ".select(\"id\",\"title\", \"original_language\",\"overview\",\"popularity\",\"release_date\",\"runtime\",\"tagline\",\"vote_count\",\"rating\")\n",
    "movies.toPandas()"
   ]
  },
  {
   "cell_type": "code",
   "execution_count": 95,
   "id": "3fe36a01",
   "metadata": {},
   "outputs": [],
   "source": [
    "movies.toPandas().to_csv(\"/home/hoangkhang/Projects/movies-recommendation/backend/data/movies.csv\", index = False)\n",
    "tmdbMovies = tmdbMovies.join(movies.select(\"id\",\"rating\"), on=\"id\")"
   ]
  },
  {
   "cell_type": "code",
   "execution_count": 22,
   "id": "f524ede8",
   "metadata": {},
   "outputs": [
    {
     "data": {
      "text/plain": [
       "['{\"id\":\"211672\",\"title\":\"Minions\",\"popularity\":875.5813}',\n",
       " '{\"id\":\"157336\",\"title\":\"Interstellar\",\"popularity\":724.2478}',\n",
       " '{\"id\":\"293660\",\"title\":\"Deadpool\",\"popularity\":514.56995}',\n",
       " '{\"id\":\"118340\",\"title\":\"Guardians of the Galaxy\",\"popularity\":481.09863}',\n",
       " '{\"id\":\"76341\",\"title\":\"Mad Max: Fury Road\",\"popularity\":434.27856}',\n",
       " '{\"id\":\"135397\",\"title\":\"Jurassic World\",\"popularity\":418.70856}',\n",
       " '{\"id\":\"22\",\"title\":\"Pirates of the Caribbean: The Curse of the Black Pearl\",\"popularity\":271.9729}',\n",
       " '{\"id\":\"119450\",\"title\":\"Dawn of the Planet of the Apes\",\"popularity\":243.79175}',\n",
       " '{\"id\":\"131631\",\"title\":\"The Hunger Games: Mockingjay - Part 1\",\"popularity\":206.22716}',\n",
       " '{\"id\":\"177572\",\"title\":\"Big Hero 6\",\"popularity\":203.73459}']"
      ]
     },
     "execution_count": 22,
     "metadata": {},
     "output_type": "execute_result"
    }
   ],
   "source": [
    "pop = tmdbMovies.orderBy(\"popularity\", ascending=0)\n",
    "pop.select(\"id\",\"title\",\"popularity\").toJSON().take(10)"
   ]
  },
  {
   "cell_type": "code",
   "execution_count": 24,
   "id": "cb001e79",
   "metadata": {},
   "outputs": [
    {
     "name": "stdout",
     "output_type": "stream",
     "text": [
      "+-----+--------+\n",
      "|title|overview|\n",
      "+-----+--------+\n",
      "+-----+--------+\n",
      "\n"
     ]
    }
   ],
   "source": [
    "tmdbMovies.filter(f.col(\"overview\").isNull()).select(\"title\",\"overview\").show()"
   ]
  },
  {
   "cell_type": "code",
   "execution_count": null,
   "id": "98104658",
   "metadata": {},
   "outputs": [],
   "source": []
  },
  {
   "cell_type": "code",
   "execution_count": 18,
   "id": "8a4cf53e",
   "metadata": {},
   "outputs": [
    {
     "name": "stdout",
     "output_type": "stream",
     "text": [
      "+------+-------------------------------------------------------------------------------------------------------------------------------------------------------------------------------------------------------------------------------------------------------------------------------------------------------------------------------------------------------------------------------------------------------------------------------------------------------------------------------------------------------------------------------------------------------------------------------------------------------------------------------------------------------------------------------------------------------------+-------------------------------------------------------------------------------------------------------------------------------------------------------------------------------------------------------------------------------------------------------------------------------------------------------------------------------------------------------------------------------------------------------------------------------------------------------------------------------------------------------------------------------------------------------------------------------------------------------------------------------------------------------------------------------------------------------------------------------------------------------------------------------------------------------------------------+\n",
      "|id    |text                                                                                                                                                                                                                                                                                                                                                                                                                                                                                                                                                                                                                                                                                                         |words1                                                                                                                                                                                                                                                                                                                                                                                                                                                                                                                                                                                                                                                                                                                                                                                                                   |\n",
      "+------+-------------------------------------------------------------------------------------------------------------------------------------------------------------------------------------------------------------------------------------------------------------------------------------------------------------------------------------------------------------------------------------------------------------------------------------------------------------------------------------------------------------------------------------------------------------------------------------------------------------------------------------------------------------------------------------------------------------+-------------------------------------------------------------------------------------------------------------------------------------------------------------------------------------------------------------------------------------------------------------------------------------------------------------------------------------------------------------------------------------------------------------------------------------------------------------------------------------------------------------------------------------------------------------------------------------------------------------------------------------------------------------------------------------------------------------------------------------------------------------------------------------------------------------------------+\n",
      "|19995 |In the 22nd century, a paraplegic Marine is dispatched to the moon Pandora on a unique mission, but becomes torn between following orders and protecting an alien civilization. culture clash future space war space colony society space travel futuristic romance space alien tribe alien planet cgi marine soldier battle love affair anti war power relations mind and soul 3d                                                                                                                                                                                                                                                                                                                           |[in, the, 22nd, century,, a, paraplegic, marine, is, dispatched, to, the, moon, pandora, on, a, unique, mission,, but, becomes, torn, between, following, orders, and, protecting, an, alien, civilization., culture, clash, future, space, war, space, colony, society, space, travel, futuristic, romance, space, alien, tribe, alien, planet, cgi, marine, soldier, battle, love, affair, anti, war, power, relations, mind, and, soul, 3d]                                                                                                                                                                                                                                                                                                                                                                           |\n",
      "|285   |Captain Barbossa, long believed to be dead, has come back to life and is headed to the edge of the Earth with Will Turner and Elizabeth Swann. But nothing is quite as it seems. ocean drug abuse exotic island east india trading company love of one's life traitor shipwreck strong woman ship alliance calypso afterlife fighter pirate swashbuckler aftercreditsstinger                                                                                                                                                                                                                                                                                                                                 |[captain, barbossa,, long, believed, to, be, dead,, has, come, back, to, life, and, is, headed, to, the, edge, of, the, earth, with, will, turner, and, elizabeth, swann., but, nothing, is, quite, as, it, seems., ocean, drug, abuse, exotic, island, east, india, trading, company, love, of, one's, life, traitor, shipwreck, strong, woman, ship, alliance, calypso, afterlife, fighter, pirate, swashbuckler, aftercreditsstinger]                                                                                                                                                                                                                                                                                                                                                                                 |\n",
      "|206647|A cryptic message from Bond’s past sends him on a trail to uncover a sinister organization. While M battles political forces to keep the secret service alive, Bond peels back the layers of deceit to reveal the terrible truth behind SPECTRE. spy based on novel secret agent sequel mi6 british secret service united kingdom                                                                                                                                                                                                                                                                                                                                                                            |[a, cryptic, message, from, bond’s, past, sends, him, on, a, trail, to, uncover, a, sinister, organization., while, m, battles, political, forces, to, keep, the, secret, service, alive,, bond, peels, back, the, layers, of, deceit, to, reveal, the, terrible, truth, behind, spectre., spy, based, on, novel, secret, agent, sequel, mi6, british, secret, service, united, kingdom]                                                                                                                                                                                                                                                                                                                                                                                                                                 |\n",
      "|49026 |Following the death of District Attorney Harvey Dent, Batman assumes responsibility for Dent's crimes to protect the late attorney's reputation and is subsequently hunted by the Gotham City Police Department. Eight years later, Batman encounters the mysterious Selina Kyle and the villainous Bane, a new terrorist leader who overwhelms Gotham's finest. The Dark Knight resurfaces to protect a city that has branded him an enemy. dc comics crime fighter terrorist secret identity burglar hostage drama time bomb gotham city vigilante cover-up superhero villainess tragic hero terrorism destruction catwoman cat burglar imax flood criminal underworld batman                              |[following, the, death, of, district, attorney, harvey, dent,, batman, assumes, responsibility, for, dent's, crimes, to, protect, the, late, attorney's, reputation, and, is, subsequently, hunted, by, the, gotham, city, police, department., eight, years, later,, batman, encounters, the, mysterious, selina, kyle, and, the, villainous, bane,, a, new, terrorist, leader, who, overwhelms, gotham's, finest., the, dark, knight, resurfaces, to, protect, a, city, that, has, branded, him, an, enemy., dc, comics, crime, fighter, terrorist, secret, identity, burglar, hostage, drama, time, bomb, gotham, city, vigilante, cover-up, superhero, villainess, tragic, hero, terrorism, destruction, catwoman, cat, burglar, imax, flood, criminal, underworld, batman]                                          |\n",
      "|49529 |John Carter is a war-weary, former military captain who's inexplicably transported to the mysterious and exotic planet of Barsoom (Mars) and reluctantly becomes embroiled in an epic conflict. It's a world on the brink of collapse, and Carter rediscovers his humanity when he realizes the survival of Barsoom and its people rests in his hands. based on novel mars medallion space travel princess alien steampunk martian escape edgar rice burroughs alien race superhuman strength mars civilization sword and planet 19th century 3d                                                                                                                                                             |[john, carter, is, a, war-weary,, former, military, captain, who's, inexplicably, transported, to, the, mysterious, and, exotic, planet, of, barsoom, (mars), and, reluctantly, becomes, embroiled, in, an, epic, conflict., it's, a, world, on, the, brink, of, collapse,, and, carter, rediscovers, his, humanity, when, he, realizes, the, survival, of, barsoom, and, its, people, rests, in, his, hands., based, on, novel, mars, medallion, space, travel, princess, alien, steampunk, martian, escape, edgar, rice, burroughs, alien, race, superhuman, strength, mars, civilization, sword, and, planet, 19th, century, 3d]                                                                                                                                                                                      |\n",
      "|559   |The seemingly invincible Spider-Man goes up against an all-new crop of villain – including the shape-shifting Sandman. While Spider-Man’s superpowers are altered by an alien organism, his alter ego, Peter Parker, deals with nemesis Eddie Brock and also gets caught up in a love triangle. dual identity amnesia sandstorm love of one's life forgiveness spider wretch death of a friend egomania sand narcism hostility marvel comic sequel superhero revenge                                                                                                                                                                                                                                         |[the, seemingly, invincible, spider-man, goes, up, against, an, all-new, crop, of, villain, –, including, the, shape-shifting, sandman., while, spider-man’s, superpowers, are, altered, by, an, alien, organism,, his, alter, ego,, peter, parker,, deals, with, nemesis, eddie, brock, and, also, gets, caught, up, in, a, love, triangle., dual, identity, amnesia, sandstorm, love, of, one's, life, forgiveness, spider, wretch, death, of, a, friend, egomania, sand, narcism, hostility, marvel, comic, sequel, superhero, revenge]                                                                                                                                                                                                                                                                               |\n",
      "|38757 |When the kingdom's most wanted-and most charming-bandit Flynn Rider hides out in a mysterious tower, he's taken hostage by Rapunzel, a beautiful and feisty tower-bound teen with 70 feet of magical, golden hair. Flynn's curious captor, who's looking for her ticket out of the tower where she's been locked away for years, strikes a deal with the handsome thief and the unlikely duo sets off on an action-packed escapade, complete with a super-cop horse, an over-protective chameleon and a gruff gang of pub thugs. hostage magic horse fairy tale musical princess animation tower blonde woman selfishness healing power based on fairy tale duringcreditsstinger healing gift animal sidekick|[when, the, kingdom's, most, wanted-and, most, charming-bandit, flynn, rider, hides, out, in, a, mysterious, tower,, he's, taken, hostage, by, rapunzel,, a, beautiful, and, feisty, tower-bound, teen, with, 70, feet, of, magical,, golden, hair., flynn's, curious, captor,, who's, looking, for, her, ticket, out, of, the, tower, where, she's, been, locked, away, for, years,, strikes, a, deal, with, the, handsome, thief, and, the, unlikely, duo, sets, off, on, an, action-packed, escapade,, complete, with, a, super-cop, horse,, an, over-protective, chameleon, and, a, gruff, gang, of, pub, thugs., hostage, magic, horse, fairy, tale, musical, princess, animation, tower, blonde, woman, selfishness, healing, power, based, on, fairy, tale, duringcreditsstinger, healing, gift, animal, sidekick]|\n",
      "|99861 |When Tony Stark tries to jumpstart a dormant peacekeeping program, things go awry and Earth’s Mightiest Heroes are put to the ultimate test as the fate of the planet hangs in the balance. As the villainous Ultron emerges, it is up to The Avengers to stop him from enacting his terrible plans, and soon uneasy alliances and unexpected action pave the way for an epic and unique global adventure. marvel comic sequel superhero based on comic book vision superhero team duringcreditsstinger marvel cinematic universe 3d                                                                                                                                                                         |[when, tony, stark, tries, to, jumpstart, a, dormant, peacekeeping, program,, things, go, awry, and, earth’s, mightiest, heroes, are, put, to, the, ultimate, test, as, the, fate, of, the, planet, hangs, in, the, balance., as, the, villainous, ultron, emerges,, it, is, up, to, the, avengers, to, stop, him, from, enacting, his, terrible, plans,, and, soon, uneasy, alliances, and, unexpected, action, pave, the, way, for, an, epic, and, unique, global, adventure., marvel, comic, sequel, superhero, based, on, comic, book, vision, superhero, team, duringcreditsstinger, marvel, cinematic, universe, 3d]                                                                                                                                                                                               |\n",
      "|767   |As Harry begins his sixth year at Hogwarts, he discovers an old book marked as 'Property of the Half-Blood Prince', and begins to learn more about Lord Voldemort's dark past. witch magic broom school of witchcraft wizardry apparition teenage crush werewolf                                                                                                                                                                                                                                                                                                                                                                                                                                             |[as, harry, begins, his, sixth, year, at, hogwarts,, he, discovers, an, old, book, marked, as, 'property, of, the, half-blood, prince',, and, begins, to, learn, more, about, lord, voldemort's, dark, past., witch, magic, broom, school, of, witchcraft, wizardry, apparition, teenage, crush, werewolf]                                                                                                                                                                                                                                                                                                                                                                                                                                                                                                               |\n",
      "|209112|Fearing the actions of a god-like Super Hero left unchecked, Gotham City’s own formidable, forceful vigilante takes on Metropolis’s most revered, modern-day savior, while the world wrestles with what sort of hero it really needs. And with Batman and Superman at war with one another, a new threat quickly arises, putting mankind in greater danger than it’s ever known before. dc comics vigilante superhero based on comic book revenge super powers clark kent bruce wayne dc extended universe                                                                                                                                                                                                   |[fearing, the, actions, of, a, god-like, super, hero, left, unchecked,, gotham, city’s, own, formidable,, forceful, vigilante, takes, on, metropolis’s, most, revered,, modern-day, savior,, while, the, world, wrestles, with, what, sort, of, hero, it, really, needs., and, with, batman, and, superman, at, war, with, one, another,, a, new, threat, quickly, arises,, putting, mankind, in, greater, danger, than, it’s, ever, known, before., dc, comics, vigilante, superhero, based, on, comic, book, revenge, super, powers, clark, kent, bruce, wayne, dc, extended, universe]                                                                                                                                                                                                                                |\n",
      "|1452  |Superman returns to discover his 5-year absence has allowed Lex Luthor to walk free, and that those he was closest too felt abandoned and have moved on. Luthor plots his ultimate revenge that could see millions killed and change the face of the planet forever, as well as ridding himself of the Man of Steel. saving the world dc comics invulnerability sequel superhero based on comic book kryptonite super powers superhuman strength lex luthor                                                                                                                                                                                                                                                  |[superman, returns, to, discover, his, 5-year, absence, has, allowed, lex, luthor, to, walk, free,, and, that, those, he, was, closest, too, felt, abandoned, and, have, moved, on., luthor, plots, his, ultimate, revenge, that, could, see, millions, killed, and, change, the, face, of, the, planet, forever,, as, well, as, ridding, himself, of, the, man, of, steel., saving, the, world, dc, comics, invulnerability, sequel, superhero, based, on, comic, book, kryptonite, super, powers, superhuman, strength, lex, luthor]                                                                                                                                                                                                                                                                                   |\n",
      "|10764 |Quantum of Solace continues the adventures of James Bond after Casino Royale. Betrayed by Vesper, the woman he loved, 007 fights the urge to make his latest mission personal. Pursuing his determination to uncover the truth, Bond and M interrogate Mr. White, who reveals that the organization that blackmailed Vesper is far more complex and dangerous than anyone had imagined. killing undercover secret agent british secret service                                                                                                                                                                                                                                                               |[quantum, of, solace, continues, the, adventures, of, james, bond, after, casino, royale., betrayed, by, vesper,, the, woman, he, loved,, 007, fights, the, urge, to, make, his, latest, mission, personal., pursuing, his, determination, to, uncover, the, truth,, bond, and, m, interrogate, mr., white,, who, reveals, that, the, organization, that, blackmailed, vesper, is, far, more, complex, and, dangerous, than, anyone, had, imagined., killing, undercover, secret, agent, british, secret, service]                                                                                                                                                                                                                                                                                                       |\n",
      "|58    |Captain Jack Sparrow works his way out of a blood debt with the ghostly Davey Jones, he also attempts to avoid eternal damnation. witch fortune teller bondage exotic island monster captain card game east india trading company compass ship daughter pirate swashbuckler aftercreditsstinger                                                                                                                                                                                                                                                                                                                                                                                                              |[captain, jack, sparrow, works, his, way, out, of, a, blood, debt, with, the, ghostly, davey, jones,, he, also, attempts, to, avoid, eternal, damnation., witch, fortune, teller, bondage, exotic, island, monster, captain, card, game, east, india, trading, company, compass, ship, daughter, pirate, swashbuckler, aftercreditsstinger]                                                                                                                                                                                                                                                                                                                                                                                                                                                                              |\n",
      "|57201 |The Texas Rangers chase down a gang of outlaws led by Butch Cavendish, but the gang ambushes the Rangers, seemingly killing them all. One survivor is found, however, by an American Indian named Tonto, who nurses him back to health. The Ranger, donning a mask and riding a white stallion named Silver, teams up with Tonto to bring the unscrupulous gang and others of that ilk to justice. texas horse survivor texas ranger partner outlaw escape lawyer train lone ranger comanche the lone ranger tonto                                                                                                                                                                                           |[the, texas, rangers, chase, down, a, gang, of, outlaws, led, by, butch, cavendish,, but, the, gang, ambushes, the, rangers,, seemingly, killing, them, all., one, survivor, is, found,, however,, by, an, american, indian, named, tonto,, who, nurses, him, back, to, health., the, ranger,, donning, a, mask, and, riding, a, white, stallion, named, silver,, teams, up, with, tonto, to, bring, the, unscrupulous, gang, and, others, of, that, ilk, to, justice., texas, horse, survivor, texas, ranger, partner, outlaw, escape, lawyer, train, lone, ranger, comanche, the, lone, ranger, tonto]                                                                                                                                                                                                                 |\n",
      "|49521 |A young boy learns that he has extraordinary powers and is not of this earth. As a young man, he journeys to discover where he came from and what he was sent here to do. But the hero in him must emerge if he is to save the world from annihilation and become the symbol of hope for all mankind. saving the world dc comics superhero based on comic book superhuman alien invasion reboot super powers dc extended universe                                                                                                                                                                                                                                                                            |[a, young, boy, learns, that, he, has, extraordinary, powers, and, is, not, of, this, earth., as, a, young, man,, he, journeys, to, discover, where, he, came, from, and, what, he, was, sent, here, to, do., but, the, hero, in, him, must, emerge, if, he, is, to, save, the, world, from, annihilation, and, become, the, symbol, of, hope, for, all, mankind., saving, the, world, dc, comics, superhero, based, on, comic, book, superhuman, alien, invasion, reboot, super, powers, dc, extended, universe]                                                                                                                                                                                                                                                                                                        |\n",
      "|2454  |One year after their incredible adventures in the Lion, the Witch and the Wardrobe, Peter, Edmund, Lucy and Susan Pevensie return to Narnia to aid a young prince whose life has been threatened by the evil King Miraz. Now, with the help of a colorful cast of new characters, including Trufflehunter the badger and Nikabrik the dwarf, the Pevensie clan embarks on an incredible quest to ensure that Narnia is returned to its rightful heir. based on novel fictional place brother sister relationship lion human being wretch leap in time matter of life and death faith uncle narnia fantasy world                                                                                              |[one, year, after, their, incredible, adventures, in, the, lion,, the, witch, and, the, wardrobe,, peter,, edmund,, lucy, and, susan, pevensie, return, to, narnia, to, aid, a, young, prince, whose, life, has, been, threatened, by, the, evil, king, miraz., now,, with, the, help, of, a, colorful, cast, of, new, characters,, including, trufflehunter, the, badger, and, nikabrik, the, dwarf,, the, pevensie, clan, embarks, on, an, incredible, quest, to, ensure, that, narnia, is, returned, to, its, rightful, heir., based, on, novel, fictional, place, brother, sister, relationship, lion, human, being, wretch, leap, in, time, matter, of, life, and, death, faith, uncle, narnia, fantasy, world]                                                                                                     |\n",
      "|24428 |When an unexpected enemy emerges and threatens global safety and security, Nick Fury, director of the international peacekeeping agency known as S.H.I.E.L.D., finds himself in need of a team to pull the world back from the brink of disaster. Spanning the globe, a daring recruitment effort begins! new york shield marvel comic superhero based on comic book alien invasion superhero team aftercreditsstinger duringcreditsstinger marvel cinematic universe                                                                                                                                                                                                                                        |[when, an, unexpected, enemy, emerges, and, threatens, global, safety, and, security,, nick, fury,, director, of, the, international, peacekeeping, agency, known, as, s.h.i.e.l.d.,, finds, himself, in, need, of, a, team, to, pull, the, world, back, from, the, brink, of, disaster., spanning, the, globe,, a, daring, recruitment, effort, begins!, new, york, shield, marvel, comic, superhero, based, on, comic, book, alien, invasion, superhero, team, aftercreditsstinger, duringcreditsstinger, marvel, cinematic, universe]                                                                                                                                                                                                                                                                                 |\n",
      "|1865  |Captain Jack Sparrow crosses paths with a woman from his past, and he's not sure if it's love -- or if she's a ruthless con artist who's using him to find the fabled Fountain of Youth. When she forces him aboard the Queen Anne's Revenge, the ship of the formidable pirate Blackbeard, Jack finds himself on an unexpected adventure in which he doesn't know who to fear more: Blackbeard or the woman from his past. sea captain mutiny sword prime minister sailing silver ship duke mermaid pirate soldier battle swashbuckler aftercreditsstinger 3d                                                                                                                                               |[captain, jack, sparrow, crosses, paths, with, a, woman, from, his, past,, and, he's, not, sure, if, it's, love, --, or, if, she's, a, ruthless, con, artist, who's, using, him, to, find, the, fabled, fountain, of, youth., when, she, forces, him, aboard, the, queen, anne's, revenge,, the, ship, of, the, formidable, pirate, blackbeard,, jack, finds, himself, on, an, unexpected, adventure, in, which, he, doesn't, know, who, to, fear, more:, blackbeard, or, the, woman, from, his, past., sea, captain, mutiny, sword, prime, minister, sailing, silver, ship, duke, mermaid, pirate, soldier, battle, swashbuckler, aftercreditsstinger, 3d]                                                                                                                                                              |\n",
      "|41154 |Agents J (Will Smith) and K (Tommy Lee Jones) are back...in time. J has seen some inexplicable things in his 15 years with the Men in Black, but nothing, not even aliens, perplexes him as much as his wry, reticent partner. But when K's life and the fate of the planet are put at stake, Agent J will have to travel back in time to put things right. J discovers that there are secrets to the universe that K never told him - secrets that will reveal themselves as he teams up with the young Agent K (Josh Brolin) to save his partner, the agency, and the future of humankind. time travel time machine alien fictional government agency seeing the future changing history                   |[agents, j, (will, smith), and, k, (tommy, lee, jones), are, back...in, time., j, has, seen, some, inexplicable, things, in, his, 15, years, with, the, men, in, black,, but, nothing,, not, even, aliens,, perplexes, him, as, much, as, his, wry,, reticent, partner., but, when, k's, life, and, the, fate, of, the, planet, are, put, at, stake,, agent, j, will, have, to, travel, back, in, time, to, put, things, right., j, discovers, that, there, are, secrets, to, the, universe, that, k, never, told, him, -, secrets, that, will, reveal, themselves, as, he, teams, up, with, the, young, agent, k, (josh, brolin), to, save, his, partner,, the, agency,, and, the, future, of, humankind., time, travel, time, machine, alien, fictional, government, agency, seeing, the, future, changing, history]   |\n",
      "|122917|Immediately after the events of The Desolation of Smaug, Bilbo and the dwarves try to defend Erebor's mountain of treasure from others who claim it: the men of the ruined Laketown and the elves of Mirkwood. Meanwhile an army of Orcs led by Azog the Defiler is marching on Erebor, fueled by the rise of the dark lord Sauron. Dwarves, elves and men must unite, and the hope for Middle-Earth falls into Bilbo's hands. corruption elves dwarves orcs middle-earth (tolkien) hobbit dragon battle unlikely friendship epic battle sword and sorcery                                                                                                                                                   |[immediately, after, the, events, of, the, desolation, of, smaug,, bilbo, and, the, dwarves, try, to, defend, erebor's, mountain, of, treasure, from, others, who, claim, it:, the, men, of, the, ruined, laketown, and, the, elves, of, mirkwood., meanwhile, an, army, of, orcs, led, by, azog, the, defiler, is, marching, on, erebor,, fueled, by, the, rise, of, the, dark, lord, sauron., dwarves,, elves, and, men, must, unite,, and, the, hope, for, middle-earth, falls, into, bilbo's, hands., corruption, elves, dwarves, orcs, middle-earth, (tolkien), hobbit, dragon, battle, unlikely, friendship, epic, battle, sword, and, sorcery]                                                                                                                                                                    |\n",
      "+------+-------------------------------------------------------------------------------------------------------------------------------------------------------------------------------------------------------------------------------------------------------------------------------------------------------------------------------------------------------------------------------------------------------------------------------------------------------------------------------------------------------------------------------------------------------------------------------------------------------------------------------------------------------------------------------------------------------------+-------------------------------------------------------------------------------------------------------------------------------------------------------------------------------------------------------------------------------------------------------------------------------------------------------------------------------------------------------------------------------------------------------------------------------------------------------------------------------------------------------------------------------------------------------------------------------------------------------------------------------------------------------------------------------------------------------------------------------------------------------------------------------------------------------------------------+\n",
      "only showing top 20 rows\n",
      "\n"
     ]
    }
   ],
   "source": [
    "tokenizer = Tokenizer(inputCol=\"text\", outputCol=\"words1\").transform(\n",
    "    tmdbMovies.select(\"id\", f.concat_ws(\" \", f.col(\"overview\"), f.concat_ws(\" \", f.col(\"keywords.name\"))).alias(\"text\"))\n",
    ")\n",
    "\n",
    "tokenizer.show(truncate=False)"
   ]
  },
  {
   "cell_type": "code",
   "execution_count": 19,
   "id": "85655a4b",
   "metadata": {},
   "outputs": [],
   "source": [
    "stopwords_remover = StopWordsRemover(\n",
    "    inputCol=\"words1\", \n",
    "    outputCol=\"words2\", \n",
    "    stopWords=StopWordsRemover.loadDefaultStopWords(\"english\")\n",
    ").transform(tokenizer)"
   ]
  },
  {
   "cell_type": "code",
   "execution_count": 20,
   "id": "76b52264",
   "metadata": {},
   "outputs": [
    {
     "name": "stdout",
     "output_type": "stream",
     "text": [
      "+------+--------------------+--------------------+--------------------+--------------------+\n",
      "|    id|                text|              words1|              words2|          vectorizer|\n",
      "+------+--------------------+--------------------+--------------------+--------------------+\n",
      "| 19995|In the 22nd centu...|[in, the, 22nd, c...|[22nd, century,, ...|(262144,[8005,196...|\n",
      "|   285|Captain Barbossa,...|[captain, barboss...|[captain, barboss...|(262144,[6769,123...|\n",
      "|206647|A cryptic message...|[a, cryptic, mess...|[cryptic, message...|(262144,[6099,153...|\n",
      "| 49026|Following the dea...|[following, the, ...|[following, death...|(262144,[3185,473...|\n",
      "| 49529|John Carter is a ...|[john, carter, is...|[john, carter, wa...|(262144,[2613,158...|\n",
      "|   559|The seemingly inv...|[the, seemingly, ...|[seemingly, invin...|(262144,[6104,669...|\n",
      "| 38757|When the kingdom'...|[when, the, kingd...|[kingdom's, wante...|(262144,[1232,293...|\n",
      "| 99861|When Tony Stark t...|[when, tony, star...|[tony, stark, tri...|(262144,[8402,107...|\n",
      "|   767|As Harry begins h...|[as, harry, begin...|[harry, begins, s...|(262144,[2820,332...|\n",
      "|209112|Fearing the actio...|[fearing, the, ac...|[fearing, actions...|(262144,[1753,230...|\n",
      "|  1452|Superman returns ...|[superman, return...|[superman, return...|(262144,[8538,449...|\n",
      "| 10764|Quantum of Solace...|[quantum, of, sol...|[quantum, solace,...|(262144,[7484,132...|\n",
      "|    58|Captain Jack Spar...|[captain, jack, s...|[captain, jack, s...|(262144,[6978,123...|\n",
      "| 57201|The Texas Rangers...|[the, texas, rang...|[texas, rangers, ...|(262144,[1232,712...|\n",
      "| 49521|A young boy learn...|[a, young, boy, l...|[young, boy, lear...|(262144,[21570,33...|\n",
      "|  2454|One year after th...|[one, year, after...|[one, year, incre...|(262144,[5935,594...|\n",
      "| 24428|When an unexpecte...|[when, an, unexpe...|[unexpected, enem...|(262144,[8402,139...|\n",
      "|  1865|Captain Jack Spar...|[captain, jack, s...|[captain, jack, s...|(262144,[8402,107...|\n",
      "| 41154|Agents J (Will Sm...|[agents, j, (will...|[agents, j, (will...|(262144,[9144,142...|\n",
      "|122917|Immediately after...|[immediately, aft...|[immediately, eve...|(262144,[535,3893...|\n",
      "+------+--------------------+--------------------+--------------------+--------------------+\n",
      "only showing top 20 rows\n",
      "\n"
     ]
    }
   ],
   "source": [
    "tf = HashingTF(inputCol='words2', outputCol='vectorizer').transform(stopwords_remover)\n",
    "tf.show()"
   ]
  },
  {
   "cell_type": "code",
   "execution_count": 21,
   "id": "f6e53ae2",
   "metadata": {},
   "outputs": [
    {
     "name": "stderr",
     "output_type": "stream",
     "text": [
      "\r",
      "[Stage 14:=============================>                            (1 + 1) / 2]\r",
      "\r",
      "                                                                                \r"
     ]
    }
   ],
   "source": [
    "idf = IDF(inputCol=\"vectorizer\", outputCol=\"features\").fit(tf)\n",
    "tfidf = idf.transform(tf).select(\"id\",\"features\")"
   ]
  },
  {
   "cell_type": "code",
   "execution_count": 22,
   "id": "0b39f068",
   "metadata": {
    "scrolled": true
   },
   "outputs": [
    {
     "name": "stdout",
     "output_type": "stream",
     "text": [
      "+------+--------------------+\n",
      "|    id|            features|\n",
      "+------+--------------------+\n",
      "| 19995|(262144,[8005,196...|\n",
      "|   285|(262144,[6769,123...|\n",
      "|206647|(262144,[6099,153...|\n",
      "| 49026|(262144,[3185,473...|\n",
      "| 49529|(262144,[2613,158...|\n",
      "|   559|(262144,[6104,669...|\n",
      "| 38757|(262144,[1232,293...|\n",
      "| 99861|(262144,[8402,107...|\n",
      "|   767|(262144,[2820,332...|\n",
      "|209112|(262144,[1753,230...|\n",
      "|  1452|(262144,[8538,449...|\n",
      "| 10764|(262144,[7484,132...|\n",
      "|    58|(262144,[6978,123...|\n",
      "| 57201|(262144,[1232,712...|\n",
      "| 49521|(262144,[21570,33...|\n",
      "|  2454|(262144,[5935,594...|\n",
      "| 24428|(262144,[8402,139...|\n",
      "|  1865|(262144,[8402,107...|\n",
      "| 41154|(262144,[9144,142...|\n",
      "|122917|(262144,[535,3893...|\n",
      "+------+--------------------+\n",
      "only showing top 20 rows\n",
      "\n"
     ]
    },
    {
     "name": "stderr",
     "output_type": "stream",
     "text": [
      "22/01/15 22:48:39 WARN DAGScheduler: Broadcasting large task binary with size 4.0 MiB\n"
     ]
    }
   ],
   "source": [
    "tfidf.show()"
   ]
  },
  {
   "cell_type": "code",
   "execution_count": 23,
   "id": "44659f7c",
   "metadata": {},
   "outputs": [],
   "source": [
    "normalizer = Normalizer(inputCol = \"features\", outputCol = \"norm\")\n",
    "data = normalizer.transform(tfidf)"
   ]
  },
  {
   "cell_type": "code",
   "execution_count": 24,
   "id": "756a309d",
   "metadata": {},
   "outputs": [
    {
     "name": "stdout",
     "output_type": "stream",
     "text": [
      "+------+--------------------+--------------------+\n",
      "|    id|            features|                norm|\n",
      "+------+--------------------+--------------------+\n",
      "| 19995|(262144,[8005,196...|(262144,[8005,196...|\n",
      "|   285|(262144,[6769,123...|(262144,[6769,123...|\n",
      "|206647|(262144,[6099,153...|(262144,[6099,153...|\n",
      "| 49026|(262144,[3185,473...|(262144,[3185,473...|\n",
      "| 49529|(262144,[2613,158...|(262144,[2613,158...|\n",
      "|   559|(262144,[6104,669...|(262144,[6104,669...|\n",
      "| 38757|(262144,[1232,293...|(262144,[1232,293...|\n",
      "| 99861|(262144,[8402,107...|(262144,[8402,107...|\n",
      "|   767|(262144,[2820,332...|(262144,[2820,332...|\n",
      "|209112|(262144,[1753,230...|(262144,[1753,230...|\n",
      "|  1452|(262144,[8538,449...|(262144,[8538,449...|\n",
      "| 10764|(262144,[7484,132...|(262144,[7484,132...|\n",
      "|    58|(262144,[6978,123...|(262144,[6978,123...|\n",
      "| 57201|(262144,[1232,712...|(262144,[1232,712...|\n",
      "| 49521|(262144,[21570,33...|(262144,[21570,33...|\n",
      "|  2454|(262144,[5935,594...|(262144,[5935,594...|\n",
      "| 24428|(262144,[8402,139...|(262144,[8402,139...|\n",
      "|  1865|(262144,[8402,107...|(262144,[8402,107...|\n",
      "| 41154|(262144,[9144,142...|(262144,[9144,142...|\n",
      "|122917|(262144,[535,3893...|(262144,[535,3893...|\n",
      "+------+--------------------+--------------------+\n",
      "only showing top 20 rows\n",
      "\n"
     ]
    },
    {
     "name": "stderr",
     "output_type": "stream",
     "text": [
      "22/01/15 22:48:48 WARN DAGScheduler: Broadcasting large task binary with size 4.0 MiB\n"
     ]
    }
   ],
   "source": [
    "data.show()"
   ]
  },
  {
   "cell_type": "code",
   "execution_count": 25,
   "id": "05755ba8",
   "metadata": {},
   "outputs": [],
   "source": [
    "def getMovieIdByTitle(title, df=tmdbMovies):\n",
    "    try:\n",
    "        movies = tmdbMovies.filter(f.lower(\"title\").contains(title.lower())).select(\"id\")\n",
    "        if(movies.count() <= 10):\n",
    "            return [row.id for row in movies.collect()]\n",
    "        return None\n",
    "    except:\n",
    "        return None"
   ]
  },
  {
   "cell_type": "code",
   "execution_count": 26,
   "id": "e4c3b496",
   "metadata": {},
   "outputs": [
    {
     "data": {
      "text/plain": [
       "['209112', '272', '415', '414', '364', '268', '142061', '2661']"
      ]
     },
     "execution_count": 26,
     "metadata": {},
     "output_type": "execute_result"
    }
   ],
   "source": [
    "getMovieIdByTitle(\"batman\")"
   ]
  },
  {
   "cell_type": "code",
   "execution_count": 27,
   "id": "b194aecd",
   "metadata": {},
   "outputs": [],
   "source": [
    "def base_contain_recommendations(title, data = data):\n",
    "    movieIds = getMovieIdByTitle(title)\n",
    "    if(len(movieIds) > 0):\n",
    "        df2 = data.withColumn(\"norm\", toDense(\"norm\"))\n",
    "        df1 = df2.filter(f.col(\"id\").isin(movieIds)).select(f.col(\"id\").alias(\"id1\"), f.col(\"norm\").alias(\"norm1\"))\n",
    "        df2 = df2.select(f.col(\"id\").alias(\"id2\"), f.col(\"norm\").alias(\"norm2\"))\n",
    "        df = df1.join(df2)\n",
    "        return df"
   ]
  },
  {
   "cell_type": "code",
   "execution_count": 28,
   "id": "10dcc4dc",
   "metadata": {},
   "outputs": [],
   "source": [
    "@f.udf\n",
    "def sim_cos(v1,v2):\n",
    "    try:\n",
    "        p = 2\n",
    "        return float(v1.dot(v2))/float(v1.norm(p)*v2.norm(p))\n",
    "    except:\n",
    "        return 0"
   ]
  },
  {
   "cell_type": "code",
   "execution_count": 29,
   "id": "9fc12460",
   "metadata": {},
   "outputs": [],
   "source": [
    "df1 = df2 = data.select(\"id\", \"norm\")\n",
    "df1 = df1.withColumnRenamed(\"id\",\"from_movie_id\").withColumnRenamed(\"norm\",\"norm1\")\n",
    "df2 = df2.withColumnRenamed(\"id\",\"to_movie_id\").withColumnRenamed(\"norm\",\"norm2\")\n",
    "\n",
    "sim_cos_values  = df1.join(df2, on=f.col(\"from_movie_id\") != f.col(\"to_movie_id\"))\\\n",
    ".withColumn(\"sim_cos\", sim_cos(f.col(\"norm1\"), f.col(\"norm2\")))\\\n",
    ".withColumn(\"sim_cos\", f.col(\"sim_cos\").cast(\"float\"))\\\n",
    ".select(\"from_movie_id\",\"to_movie_id\",\"sim_cos\")"
   ]
  },
  {
   "cell_type": "code",
   "execution_count": 30,
   "id": "69981f90",
   "metadata": {},
   "outputs": [
    {
     "name": "stdout",
     "output_type": "stream",
     "text": [
      "root\n",
      " |-- from_movie_id: string (nullable = true)\n",
      " |-- to_movie_id: string (nullable = true)\n",
      " |-- sim_cos: float (nullable = true)\n",
      "\n"
     ]
    }
   ],
   "source": [
    "sim_cos_values.printSchema()"
   ]
  },
  {
   "cell_type": "code",
   "execution_count": 31,
   "id": "183c9925",
   "metadata": {},
   "outputs": [],
   "source": [
    "window = Window.partitionBy(sim_cos_values[\"from_movie_id\"]).orderBy(sim_cos_values[\"sim_cos\"].desc())\n",
    "\n",
    "movieContentSimilar = sim_cos_values.withColumn(\"rank\", f.rank().over(window))\\\n",
    ".filter(f.col(\"rank\") <= 8)\\\n",
    ".select(\"from_movie_id\",\"to_movie_id\",\"sim_cos\")"
   ]
  },
  {
   "cell_type": "code",
   "execution_count": 32,
   "id": "43fc468a",
   "metadata": {},
   "outputs": [
    {
     "name": "stderr",
     "output_type": "stream",
     "text": [
      "22/01/15 22:49:28 WARN DAGScheduler: Broadcasting large task binary with size 4.0 MiB\n",
      "22/01/15 22:49:29 WARN DAGScheduler: Broadcasting large task binary with size 4.1 MiB\n",
      "22/01/15 23:20:58 WARN DAGScheduler: Broadcasting large task binary with size 4.1 MiB\n",
      "22/01/15 23:21:11 WARN TaskMemoryManager: Failed to allocate a page (134217728 bytes), try again.\n",
      "                                                                                \r"
     ]
    }
   ],
   "source": [
    "movieContentSimilar.toPandas()\\\n",
    ".to_csv(\"/home/hoangkhang/Projects/movies-recommendation/backend/data/similar_movies.csv\", index = True, index_label=\"id\")"
   ]
  },
  {
   "cell_type": "code",
   "execution_count": 34,
   "id": "ac4295ed",
   "metadata": {},
   "outputs": [],
   "source": [
    "ratingDF = spark.read.csv(path=\"./input/movies-data/ratings.csv\", header=True)"
   ]
  },
  {
   "cell_type": "code",
   "execution_count": 35,
   "id": "9b761ef2",
   "metadata": {},
   "outputs": [
    {
     "name": "stdout",
     "output_type": "stream",
     "text": [
      "+------+-------+------+----------+\n",
      "|userId|movieId|rating| timestamp|\n",
      "+------+-------+------+----------+\n",
      "|     1|    110|   1.0|1425941529|\n",
      "|     1|    147|   4.5|1425942435|\n",
      "|     1|    858|   5.0|1425941523|\n",
      "|     1|   1221|   5.0|1425941546|\n",
      "|     1|   1246|   5.0|1425941556|\n",
      "|     1|   1968|   4.0|1425942148|\n",
      "|     1|   2762|   4.5|1425941300|\n",
      "|     1|   2918|   5.0|1425941593|\n",
      "|     1|   2959|   4.0|1425941601|\n",
      "|     1|   4226|   4.0|1425942228|\n",
      "|     1|   4878|   5.0|1425941434|\n",
      "|     1|   5577|   5.0|1425941397|\n",
      "|     1|  33794|   4.0|1425942005|\n",
      "|     1|  54503|   3.5|1425941313|\n",
      "|     1|  58559|   4.0|1425942007|\n",
      "|     1|  59315|   5.0|1425941502|\n",
      "|     1|  68358|   5.0|1425941464|\n",
      "|     1|  69844|   5.0|1425942139|\n",
      "|     1|  73017|   5.0|1425942699|\n",
      "|     1|  81834|   5.0|1425942133|\n",
      "+------+-------+------+----------+\n",
      "only showing top 20 rows\n",
      "\n"
     ]
    }
   ],
   "source": [
    "ratingDF.show()"
   ]
  },
  {
   "cell_type": "code",
   "execution_count": 36,
   "id": "4cae32b7",
   "metadata": {},
   "outputs": [
    {
     "name": "stderr",
     "output_type": "stream",
     "text": [
      "                                                                                \r"
     ]
    }
   ],
   "source": [
    "ratingDF = tmdbMovies.select(\"id\").join(ratingDF, on=f.col(\"id\") == f.col(\"movieId\"))\n",
    "ratingDF = ratingDF.select(\"userId\",\"movieId\",\"rating\")\n",
    "ratingDF.toPandas().to_csv(\"./input/tmdb 5000 movie/ratings.csv\", index=False)"
   ]
  },
  {
   "cell_type": "code",
   "execution_count": 37,
   "id": "37f0c31e",
   "metadata": {},
   "outputs": [],
   "source": [
    "from pyspark.ml.recommendation import ALS\n",
    "from pyspark.ml.evaluation import RegressionEvaluator\n",
    "from pyspark.ml.tuning import ParamGridBuilder, CrossValidator"
   ]
  },
  {
   "cell_type": "code",
   "execution_count": 38,
   "id": "8700f233",
   "metadata": {},
   "outputs": [],
   "source": [
    "schema = StructType([\n",
    "    StructField(\"userId\", IntegerType(), nullable=False),\n",
    "    StructField(\"movieId\", IntegerType(), nullable=False),\n",
    "    StructField(\"rating\", FloatType(), nullable=False)\n",
    "])\n",
    "movie_ratings = spark.read.csv(path=\"./input/tmdb 5000 movie/ratings.csv\", header=True, schema=schema)"
   ]
  },
  {
   "cell_type": "code",
   "execution_count": 39,
   "id": "e0a49001",
   "metadata": {},
   "outputs": [
    {
     "name": "stdout",
     "output_type": "stream",
     "text": [
      "root\n",
      " |-- userId: integer (nullable = true)\n",
      " |-- movieId: integer (nullable = true)\n",
      " |-- rating: float (nullable = true)\n",
      "\n",
      "+------+-------+------+\n",
      "|userId|movieId|rating|\n",
      "+------+-------+------+\n",
      "|     1|   1246|   5.0|\n",
      "|     1|   2959|   4.0|\n",
      "|     2|      5|   3.0|\n",
      "|     2|     25|   3.0|\n",
      "|     2|     58|   3.0|\n",
      "|     2|     79|   4.0|\n",
      "|     2|    141|   3.0|\n",
      "|     2|    377|   4.0|\n",
      "|     2|    605|   4.0|\n",
      "|     2|    628|   4.0|\n",
      "|     2|    762|   3.0|\n",
      "|     2|    786|   1.0|\n",
      "|     2|    788|   1.0|\n",
      "|     3|    480|   3.0|\n",
      "|     3|    500|   2.0|\n",
      "|     3|   4474|   3.0|\n",
      "|     4|    223|   4.0|\n",
      "|     4|    415|   4.0|\n",
      "|     4|   1422|   4.0|\n",
      "|     4|   1597|   3.0|\n",
      "+------+-------+------+\n",
      "only showing top 20 rows\n",
      "\n"
     ]
    },
    {
     "data": {
      "text/plain": [
       "4655281"
      ]
     },
     "execution_count": 39,
     "metadata": {},
     "output_type": "execute_result"
    }
   ],
   "source": [
    "movie_ratings.printSchema()\n",
    "movie_ratings.show()\n",
    "movie_ratings.count()"
   ]
  },
  {
   "cell_type": "code",
   "execution_count": 40,
   "id": "f813d86e",
   "metadata": {},
   "outputs": [
    {
     "name": "stderr",
     "output_type": "stream",
     "text": [
      "[Stage 726:==============>                                          (1 + 3) / 4]\r"
     ]
    },
    {
     "name": "stdout",
     "output_type": "stream",
     "text": [
      "The ratings dataframe is 98.61% sparse.\n"
     ]
    },
    {
     "name": "stderr",
     "output_type": "stream",
     "text": [
      "\r",
      "                                                                                \r"
     ]
    }
   ],
   "source": [
    "def get_mat_sparsity(ratings):\n",
    "    count_nonzero = ratings.select(\"rating\").count()\n",
    "    total_elements = ratings.select(\"userId\").distinct().count() * ratings.select(\"movieId\").distinct().count()\n",
    "    sparsity = (1.0 - (count_nonzero * 1.0) / total_elements) * 100\n",
    "    print(f\"The ratings dataframe is {round(sparsity, 2)}% sparse.\")\n",
    "    \n",
    "get_mat_sparsity(ratings=movie_ratings)"
   ]
  },
  {
   "cell_type": "code",
   "execution_count": 41,
   "id": "f6a72c75",
   "metadata": {},
   "outputs": [],
   "source": [
    "seed = 2022\n",
    "(training, testing) = movie_ratings.randomSplit([0.8,0.2], seed=2022)"
   ]
  },
  {
   "cell_type": "code",
   "execution_count": 43,
   "id": "84678309",
   "metadata": {},
   "outputs": [
    {
     "name": "stderr",
     "output_type": "stream",
     "text": [
      "                                                                                \r"
     ]
    },
    {
     "name": "stdout",
     "output_type": "stream",
     "text": [
      "For rank 3 the RMSE is 0.8916174158450135\n"
     ]
    },
    {
     "name": "stderr",
     "output_type": "stream",
     "text": [
      "                                                                                \r"
     ]
    },
    {
     "name": "stdout",
     "output_type": "stream",
     "text": [
      "For rank 5 the RMSE is 0.8864718333088998\n"
     ]
    },
    {
     "name": "stderr",
     "output_type": "stream",
     "text": [
      "                                                                                \r"
     ]
    },
    {
     "name": "stdout",
     "output_type": "stream",
     "text": [
      "For rank 8 the RMSE is 0.8953218422811495\n",
      "The best model was trained with rank 5\n"
     ]
    },
    {
     "name": "stderr",
     "output_type": "stream",
     "text": [
      "\r",
      "[Stage 1216:>                                                       (0 + 4) / 4]\r",
      "\r",
      "                                                                                \r"
     ]
    }
   ],
   "source": [
    "als = ALS(userCol=\"userId\", \n",
    "          itemCol=\"movieId\", \n",
    "          ratingCol=\"rating\", \n",
    "          coldStartStrategy=\"drop\", \n",
    "          nonnegative=True, \n",
    "          maxIter=5,\n",
    "          seed=seed,\n",
    "          regParam=0.1,\n",
    "          implicitPrefs= False)\n",
    "\n",
    "reg_eval = RegressionEvaluator(predictionCol=\"prediction\", labelCol=\"rating\", metricName=\"rmse\")\n",
    "\n",
    "ranks = [3, 5, 8]\n",
    "errors = [0, 0, 0]\n",
    "models = [0, 0, 0]\n",
    "err = 0\n",
    "min_error = float('inf')\n",
    "best_rank = -1\n",
    "for rank in ranks:\n",
    "    als.setRank(rank)\n",
    "    model = als.fit(training)\n",
    "    # Run the model to create a prediction. Predict against the validation_df.\n",
    "    predict_df = model.transform(testing)\n",
    "\n",
    "    # Remove NaN values from prediction (due to SPARK-14489)\n",
    "    predicted_ratings_df = predict_df.filter(predict_df.prediction != float('nan'))\n",
    "\n",
    "    # Run the previously created RMSE evaluator, reg_eval, on the predicted_ratings_df DataFrame\n",
    "    error = reg_eval.evaluate(predict_df)\n",
    "    errors[err] = error\n",
    "    models[err] = model\n",
    "    print(f'For rank {rank} the RMSE is {error}')\n",
    "    if error < min_error:\n",
    "        min_error = error\n",
    "        best_rank = err\n",
    "    err += 1\n",
    "\n",
    "als.setRank(ranks[best_rank])\n",
    "print(f'The best model was trained with rank {ranks[best_rank]}')\n",
    "my_model = models[best_rank]"
   ]
  },
  {
   "cell_type": "code",
   "execution_count": 47,
   "id": "765665be",
   "metadata": {},
   "outputs": [
    {
     "name": "stdout",
     "output_type": "stream",
     "text": [
      "MaxIter: 5\n",
      "RegParm: 0.1\n"
     ]
    }
   ],
   "source": [
    "print(f\"MaxIter: {my_model._java_obj.parent().getMaxIter()}\")\n",
    "print(f\"RegParm: {my_model._java_obj.parent().getRegParam()}\")"
   ]
  },
  {
   "cell_type": "code",
   "execution_count": 54,
   "id": "d5994fa5",
   "metadata": {},
   "outputs": [
    {
     "name": "stderr",
     "output_type": "stream",
     "text": [
      "/home/hoangkhang/.local/lib/python3.8/site-packages/pyspark/sql/context.py:125: FutureWarning: Deprecated in 3.0.0. Use SparkSession.builder.getOrCreate() instead.\n",
      "  warnings.warn(\n",
      "[Stage 1346:====================================================>(99 + 1) / 100]\r"
     ]
    },
    {
     "name": "stdout",
     "output_type": "stream",
     "text": [
      "+------+-------------------------------------------------------------+\n",
      "|userId|                                              recommendations|\n",
      "+------+-------------------------------------------------------------+\n",
      "|     1|   [{130150, 6.00465}, {86829, 5.304157}, {60309, 5.0171995}]|\n",
      "|     6|  [{130150, 3.631001}, {86829, 3.5607057}, {60309, 3.048162}]|\n",
      "|    12|[{110415, 4.9515705}, {88005, 4.8444214}, {158852, 4.842569}]|\n",
      "|    13|[{62206, 6.0224953}, {110415, 5.769824}, {153158, 5.2702246}]|\n",
      "|    16|   [{130150, 6.0109015}, {2959, 5.0322866}, {5971, 4.957446}]|\n",
      "|    22|    [{62206, 6.548557}, {86829, 5.5066853}, {1724, 4.829375}]|\n",
      "|    27| [{153158, 5.094948}, {96724, 5.0937023}, {88005, 4.8653736}]|\n",
      "|    28|   [{2959, 3.9354534}, {130150, 3.9255168}, {296, 3.7827373}]|\n",
      "|    31|   [{62206, 6.593297}, {110415, 6.12729}, {153158, 5.920595}]|\n",
      "|    34|     [{130150, 5.28414}, {2959, 4.8616714}, {296, 4.6789007}]|\n",
      "|    44|  [{110415, 6.3511386}, {153158, 5.8823776}, {787, 5.725555}]|\n",
      "|    47| [{130150, 5.0477858}, {96724, 4.598743}, {153158, 4.572828}]|\n",
      "|    52|  [{130150, 4.1069345}, {86829, 3.7132475}, {1830, 3.691859}]|\n",
      "|    53|   [{130150, 5.873526}, {86829, 4.8470964}, {1262, 4.726043}]|\n",
      "|    65|   [{130150, 5.273475}, {44555, 4.3207264}, {5971, 4.319136}]|\n",
      "|    76|   [{86829, 4.458319}, {130150, 3.8994682}, {480, 3.5818222}]|\n",
      "|    78|   [{130150, 2.9895139}, {1830, 2.883288}, {8699, 2.7168622}]|\n",
      "|    81|  [{130150, 3.614163}, {86829, 3.2969203}, {2959, 3.2705226}]|\n",
      "|    85|  [{130150, 5.4279714}, {86829, 4.6431775}, {953, 4.3249044}]|\n",
      "|    86|   [{1830, 4.7656193}, {130150, 4.16888}, {60421, 4.0548606}]|\n",
      "+------+-------------------------------------------------------------+\n",
      "only showing top 20 rows\n",
      "\n"
     ]
    },
    {
     "name": "stderr",
     "output_type": "stream",
     "text": [
      "\r",
      "                                                                                \r"
     ]
    }
   ],
   "source": [
    "all_user_recommendations = my_model.recommendForAllUsers(3)\n",
    "all_user_recommendations.show(truncate=100)"
   ]
  },
  {
   "cell_type": "code",
   "execution_count": 55,
   "id": "467498d9",
   "metadata": {},
   "outputs": [
    {
     "name": "stderr",
     "output_type": "stream",
     "text": [
      "[Stage 1375:===================================================> (98 + 2) / 100]\r"
     ]
    },
    {
     "name": "stdout",
     "output_type": "stream",
     "text": [
      "+------+-------+---------+\n",
      "|userId|movieId|   rating|\n",
      "+------+-------+---------+\n",
      "|     1| 130150|  6.00465|\n",
      "|     1|  86829| 5.304157|\n",
      "|     1|  60309|5.0171995|\n",
      "|     6| 130150| 3.631001|\n",
      "|     6|  86829|3.5607057|\n",
      "|     6|  60309| 3.048162|\n",
      "|    12| 110415|4.9515705|\n",
      "|    12|  88005|4.8444214|\n",
      "|    12| 158852| 4.842569|\n",
      "|    13|  62206|6.0224953|\n",
      "|    13| 110415| 5.769824|\n",
      "|    13| 153158|5.2702246|\n",
      "|    16| 130150|6.0109015|\n",
      "|    16|   2959|5.0322866|\n",
      "|    16|   5971| 4.957446|\n",
      "|    22|  62206| 6.548557|\n",
      "|    22|  86829|5.5066853|\n",
      "|    22|   1724| 4.829375|\n",
      "|    27| 153158| 5.094948|\n",
      "|    27|  96724|5.0937023|\n",
      "+------+-------+---------+\n",
      "only showing top 20 rows\n",
      "\n"
     ]
    },
    {
     "name": "stderr",
     "output_type": "stream",
     "text": [
      "\r",
      "                                                                                \r"
     ]
    }
   ],
   "source": [
    "all_user_recommendations = all_user_recommendations.withColumn(\"rec_exp\", f.explode(\"recommendations\"))\\\n",
    ".select(\"userId\",\"rec_exp.movieId\",\"rec_exp.rating\")\n",
    "all_user_recommendations.show()"
   ]
  },
  {
   "cell_type": "code",
   "execution_count": 59,
   "id": "0a8e9c26",
   "metadata": {},
   "outputs": [
    {
     "name": "stderr",
     "output_type": "stream",
     "text": [
      "[Stage 1491:================================================>    (92 + 4) / 100]\r"
     ]
    },
    {
     "name": "stdout",
     "output_type": "stream",
     "text": [
      "[130150, 86829, 60309]\n"
     ]
    },
    {
     "name": "stderr",
     "output_type": "stream",
     "text": [
      "\r",
      "[Stage 1491:===================================================> (97 + 3) / 100]\r",
      "\r",
      "                                                                                \r"
     ]
    }
   ],
   "source": [
    "user_1_recommendations = [row.movieId for row in all_user_recommendations.filter(f\"userId == {1}\").collect()] \n",
    "print(user_1_recommendations)"
   ]
  },
  {
   "cell_type": "code",
   "execution_count": 51,
   "id": "82992870",
   "metadata": {},
   "outputs": [
    {
     "name": "stderr",
     "output_type": "stream",
     "text": [
      "                                                                                \r"
     ]
    },
    {
     "name": "stdout",
     "output_type": "stream",
     "text": [
      "+------+-------+---------+---------------------+---------------------------------------+\n",
      "|userId|movieId|   rating|                title|                                 genres|\n",
      "+------+-------+---------+---------------------+---------------------------------------+\n",
      "|     1| 130150|  6.00465|            Labor Day|                                  Drama|\n",
      "|     1|  86829| 5.304157|  Inside Llewyn Davis|                            Drama|Music|\n",
      "|     1|  60309|5.0171995|      The Conspirator|                    Crime|Drama|History|\n",
      "|     1|  96724| 4.907068|        Anna Karenina|                          Drama|Romance|\n",
      "|     1|     73| 4.869559|   American History X|                                  Drama|\n",
      "|     1|    593|4.8687935|              Solaris|Drama|Science Fiction|Adventure|Mystery|\n",
      "|     1|    116|4.8533626|          Match Point|           Drama|Thriller|Crime|Romance|\n",
      "|     1|    590| 4.850157|            The Hours|                                  Drama|\n",
      "|     1|     62| 4.845871|2001: A Space Odyssey|      Science Fiction|Mystery|Adventure|\n",
      "|     1|    508| 4.804936|        Love Actually|                   Comedy|Romance|Drama|\n",
      "|     6| 130150| 3.631001|            Labor Day|                                  Drama|\n",
      "|     6|  86829|3.5607057|  Inside Llewyn Davis|                            Drama|Music|\n",
      "|     6|  60309| 3.048162|      The Conspirator|                    Crime|Drama|History|\n",
      "|     6|     62|3.0308864|2001: A Space Odyssey|      Science Fiction|Mystery|Adventure|\n",
      "|     6|    364|3.0071847|       Batman Returns|                         Action|Fantasy|\n",
      "|     6|    593|3.0013392|              Solaris|Drama|Science Fiction|Adventure|Mystery|\n",
      "|     6|    590|2.9605746|            The Hours|                                  Drama|\n",
      "|     6|    161|2.9584272|       Ocean's Eleven|                         Thriller|Crime|\n",
      "|     6|    595|2.9583874|To Kill a Mockingbird|                            Crime|Drama|\n",
      "|     6|    588|2.9372478|          Silent Hill|                         Horror|Mystery|\n",
      "+------+-------+---------+---------------------+---------------------------------------+\n",
      "only showing top 20 rows\n",
      "\n"
     ]
    }
   ],
   "source": [
    "all_user_recommendations = all_user_recommendations\\\n",
    ".join(tmdbMovies.withColumnRenamed(\"id\",\"movieId\"), on=\"movieId\")\\\n",
    ".select(\"userId\", \"movieId\", \"rating\", \"title\", f.concat_ws(\"|\", \"genres.name\").alias(\"genres\"))\n",
    "\n",
    "all_user_recommendations.show(truncate=100)"
   ]
  },
  {
   "cell_type": "code",
   "execution_count": 53,
   "id": "df373b43",
   "metadata": {},
   "outputs": [
    {
     "name": "stderr",
     "output_type": "stream",
     "text": [
      "                                                                                \r"
     ]
    }
   ],
   "source": [
    "my_model.write().overwrite().save(\"/home/hoangkhang/Projects/movies-recommendation/backend/mlmodel\")"
   ]
  },
  {
   "cell_type": "code",
   "execution_count": 105,
   "id": "411117b7",
   "metadata": {},
   "outputs": [],
   "source": [
    "top_movies = tmdbMovies.filter((f.col(\"rating\") > 7)).withColumnRenamed(\"id\", \"movieId\").select(\"movieId\")\n",
    "top_movie_ratings = top_movies.join(movie_ratings, on=\"movieId\")\n",
    "\n",
    "top_movies\\\n",
    ".toPandas().to_csv(\"/home/hoangkhang/Projects/movies-recommendation/backend/data/top_movie/movie.csv\", index = False)\n",
    "\n",
    "top_movie_ratings\\\n",
    ".toPandas().to_csv(\"/home/hoangkhang/Projects/movies-recommendation/backend/data/top_movie/ratings.csv\", index = False)"
   ]
  },
  {
   "cell_type": "code",
   "execution_count": null,
   "id": "3d1843d9",
   "metadata": {},
   "outputs": [],
   "source": []
  }
 ],
 "metadata": {
  "kernelspec": {
   "display_name": "Python 3 (ipykernel)",
   "language": "python",
   "name": "python3"
  },
  "language_info": {
   "codemirror_mode": {
    "name": "ipython",
    "version": 3
   },
   "file_extension": ".py",
   "mimetype": "text/x-python",
   "name": "python",
   "nbconvert_exporter": "python",
   "pygments_lexer": "ipython3",
   "version": "3.8.10"
  }
 },
 "nbformat": 4,
 "nbformat_minor": 5
}
