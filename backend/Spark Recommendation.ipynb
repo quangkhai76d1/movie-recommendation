{
 "cells": [
  {
   "cell_type": "code",
   "execution_count": 1,
   "id": "c04821c7",
   "metadata": {},
   "outputs": [],
   "source": [
    "from pyspark.sql import SparkSession, functions as f\n",
    "from pyspark.sql.types import *\n",
    "from pyspark.mllib.linalg import VectorUDT, DenseVector\n",
    "from pyspark.mllib.linalg.distributed import IndexedRow, IndexedRowMatrix\n",
    "from pyspark.sql.window import Window\n",
    "from pyspark.ml.feature import StopWordsRemover, Tokenizer, IDF, HashingTF, Normalizer\n",
    "from pyspark.ml import Pipeline\n",
    "import pandas as pd\n",
    "import json"
   ]
  },
  {
   "cell_type": "code",
   "execution_count": 2,
   "id": "5f95e978",
   "metadata": {
    "scrolled": true
   },
   "outputs": [
    {
     "name": "stderr",
     "output_type": "stream",
     "text": [
      "22/01/18 09:23:40 WARN Utils: Your hostname, HK-Nitro-AN515-51 resolves to a loopback address: 127.0.1.1; using 192.168.0.106 instead (on interface wlp2s0)\n",
      "22/01/18 09:23:40 WARN Utils: Set SPARK_LOCAL_IP if you need to bind to another address\n",
      "WARNING: An illegal reflective access operation has occurred\n",
      "WARNING: Illegal reflective access by org.apache.spark.unsafe.Platform (file:/opt/spark/jars/spark-unsafe_2.12-3.2.0.jar) to constructor java.nio.DirectByteBuffer(long,int)\n",
      "WARNING: Please consider reporting this to the maintainers of org.apache.spark.unsafe.Platform\n",
      "WARNING: Use --illegal-access=warn to enable warnings of further illegal reflective access operations\n",
      "WARNING: All illegal access operations will be denied in a future release\n",
      "Using Spark's default log4j profile: org/apache/spark/log4j-defaults.properties\n",
      "Setting default log level to \"WARN\".\n",
      "To adjust logging level use sc.setLogLevel(newLevel). For SparkR, use setLogLevel(newLevel).\n",
      "22/01/18 09:23:40 WARN NativeCodeLoader: Unable to load native-hadoop library for your platform... using builtin-java classes where applicable\n"
     ]
    }
   ],
   "source": [
    "spark = SparkSession.builder.appName(\"movieRecommendation\").getOrCreate()"
   ]
  },
  {
   "cell_type": "code",
   "execution_count": 11,
   "id": "886f99b3",
   "metadata": {},
   "outputs": [],
   "source": [
    "tmdbMoviesSchema = StructType([\n",
    "    StructField(\"budget\", LongType(), True),\n",
    "    StructField(\"genres\", StringType(), True),\n",
    "    StructField(\"homepage\", StringType(), True),\n",
    "    StructField(\"id\", StringType(), False),\n",
    "    StructField(\"keywords\", StringType(), True),\n",
    "    StructField(\"original_language\", StringType(), True),\n",
    "    StructField(\"original_title\", StringType(), True),\n",
    "    StructField(\"overview\", StringType(), True),\n",
    "    StructField(\"popularity\", FloatType(), True),\n",
    "    StructField(\"production_companies\", StringType(), True),\n",
    "    StructField(\"production_countries\", StringType(), True),\n",
    "    StructField(\"release_date\", DateType(), True),\n",
    "    StructField(\"revenue\", LongType(), True),\n",
    "    StructField(\"runtime\", IntegerType(), True),\n",
    "    StructField(\"spoken_languages\", StringType(), True),\n",
    "    StructField(\"status\", StringType(), True),\n",
    "    StructField(\"tagline\", StringType(), True),\n",
    "    StructField(\"title\", StringType(), True),\n",
    "    StructField(\"vote_average\", FloatType(), True),\n",
    "    StructField(\"vote_count\", IntegerType(), True)\n",
    "])"
   ]
  },
  {
   "cell_type": "code",
   "execution_count": 12,
   "id": "a886a47c",
   "metadata": {},
   "outputs": [
    {
     "name": "stdout",
     "output_type": "stream",
     "text": [
      "root\n",
      " |-- budget: long (nullable = true)\n",
      " |-- genres: string (nullable = true)\n",
      " |-- homepage: string (nullable = true)\n",
      " |-- id: string (nullable = true)\n",
      " |-- keywords: string (nullable = true)\n",
      " |-- original_language: string (nullable = true)\n",
      " |-- original_title: string (nullable = true)\n",
      " |-- overview: string (nullable = true)\n",
      " |-- popularity: float (nullable = true)\n",
      " |-- production_companies: string (nullable = true)\n",
      " |-- production_countries: string (nullable = true)\n",
      " |-- release_date: date (nullable = true)\n",
      " |-- revenue: long (nullable = true)\n",
      " |-- runtime: integer (nullable = true)\n",
      " |-- spoken_languages: string (nullable = true)\n",
      " |-- status: string (nullable = true)\n",
      " |-- tagline: string (nullable = true)\n",
      " |-- title: string (nullable = true)\n",
      " |-- vote_average: float (nullable = true)\n",
      " |-- vote_count: integer (nullable = true)\n",
      "\n"
     ]
    }
   ],
   "source": [
    "tmdbMovies = spark.read.csv(\n",
    "    path=\"../../movies-recommendations-notebook-data/input/tmdb 5000 movie/tmdb_5000_movies.csv\", \n",
    "    header=True, sep=\",\", quote=\"\\\"\", escape=\"\\\"\", schema=tmdbMoviesSchema\n",
    ")\n",
    "\n",
    "tmdbMovies.printSchema()"
   ]
  },
  {
   "cell_type": "markdown",
   "id": "6901e0aa",
   "metadata": {},
   "source": [
    "### Điều chỉnh cột genres và keywords"
   ]
  },
  {
   "cell_type": "code",
   "execution_count": 13,
   "id": "c7781d2c",
   "metadata": {},
   "outputs": [
    {
     "name": "stdout",
     "output_type": "stream",
     "text": [
      "root\n",
      " |-- genres: array (nullable = true)\n",
      " |    |-- element: struct (containsNull = true)\n",
      " |    |    |-- id: integer (nullable = true)\n",
      " |    |    |-- name: string (nullable = true)\n",
      " |-- id: string (nullable = true)\n",
      " |-- keywords: array (nullable = true)\n",
      " |    |-- element: struct (containsNull = true)\n",
      " |    |    |-- id: integer (nullable = true)\n",
      " |    |    |-- name: string (nullable = true)\n",
      " |-- original_language: string (nullable = true)\n",
      " |-- original_title: string (nullable = true)\n",
      " |-- overview: string (nullable = true)\n",
      " |-- popularity: float (nullable = true)\n",
      " |-- release_date: date (nullable = true)\n",
      " |-- runtime: integer (nullable = true)\n",
      " |-- tagline: string (nullable = true)\n",
      " |-- title: string (nullable = true)\n",
      " |-- vote_average: float (nullable = true)\n",
      " |-- vote_count: integer (nullable = true)\n",
      "\n"
     ]
    }
   ],
   "source": [
    "tmdbMovies = tmdbMovies\\\n",
    ".withColumn(\"genres\", f.from_json(\"genres\", ArrayType(StructType([\n",
    "  StructField(\"id\", IntegerType(), False),\n",
    "  StructField(\"name\", StringType(), False)\n",
    "]))))\\\n",
    ".withColumn(\"keywords\", f.from_json(\"keywords\" ,ArrayType(StructType([\n",
    "  StructField(\"id\", IntegerType(), False),\n",
    "  StructField(\"name\", StringType(), False)\n",
    "]))))\\\n",
    ".drop(\"homepage\",\"production_companies\",\"production_countries\",\"revenue\",\"spoken_languages\",\"status\",\"budget\")\n",
    "\n",
    "tmdbMovies.printSchema()"
   ]
  },
  {
   "cell_type": "markdown",
   "id": "bbaf39d7",
   "metadata": {},
   "source": [
    "### Điều chỉnh giá trị thành rỗng cho hàng có giá trị null ở cột \"overview\", \"tagline\""
   ]
  },
  {
   "cell_type": "code",
   "execution_count": 14,
   "id": "1f64e78f",
   "metadata": {},
   "outputs": [
    {
     "name": "stdout",
     "output_type": "stream",
     "text": [
      "+--------+-------+\n",
      "|overview|tagline|\n",
      "+--------+-------+\n",
      "|       0|      0|\n",
      "+--------+-------+\n",
      "\n"
     ]
    },
    {
     "name": "stderr",
     "output_type": "stream",
     "text": [
      "\r",
      "[Stage 0:=============================>                             (1 + 1) / 2]\r",
      "\r",
      "                                                                                \r"
     ]
    }
   ],
   "source": [
    "tmdbMovies = tmdbMovies.na.fill(value=\"\",subset=\"overview\")\n",
    "tmdbMovies = tmdbMovies.na.fill(value=\"\",subset=\"tagline\")\n",
    "\n",
    "tmdbMovies.select([f.count(f.when(f.isnan(c) | f.col(c).isNull(), c)).alias(c) for c in tmdbMovies.select(\"overview\",\"tagline\").columns]).show()"
   ]
  },
  {
   "cell_type": "markdown",
   "id": "b8af8bb2",
   "metadata": {},
   "source": [
    "### Tạo ra các bảng Genre và Movie-Genre"
   ]
  },
  {
   "cell_type": "code",
   "execution_count": 15,
   "id": "21239f8e",
   "metadata": {},
   "outputs": [
    {
     "name": "stdout",
     "output_type": "stream",
     "text": [
      "Genres\n",
      "+-----+---------------+\n",
      "|   id|           name|\n",
      "+-----+---------------+\n",
      "|  878|Science Fiction|\n",
      "|   28|         Action|\n",
      "|   35|         Comedy|\n",
      "| 9648|        Mystery|\n",
      "|10769|        Foreign|\n",
      "|   36|        History|\n",
      "|   27|         Horror|\n",
      "|10751|         Family|\n",
      "|   16|      Animation|\n",
      "|   18|          Drama|\n",
      "|10749|        Romance|\n",
      "|   14|        Fantasy|\n",
      "|10770|       TV Movie|\n",
      "|   37|        Western|\n",
      "|10752|            War|\n",
      "|   53|       Thriller|\n",
      "|   99|    Documentary|\n",
      "|   12|      Adventure|\n",
      "|   80|          Crime|\n",
      "|10402|          Music|\n",
      "+-----+---------------+\n",
      "\n",
      "Movie-Genre\n",
      "+--------+--------+\n",
      "|movie_id|genre_id|\n",
      "+--------+--------+\n",
      "|   19995|      28|\n",
      "|   19995|      12|\n",
      "|   19995|      14|\n",
      "|   19995|     878|\n",
      "|     285|      12|\n",
      "|     285|      14|\n",
      "|     285|      28|\n",
      "|  206647|      28|\n",
      "|  206647|      12|\n",
      "|  206647|      80|\n",
      "|   49026|      28|\n",
      "|   49026|      80|\n",
      "|   49026|      18|\n",
      "|   49026|      53|\n",
      "|   49529|      28|\n",
      "|   49529|      12|\n",
      "|   49529|     878|\n",
      "|     559|      14|\n",
      "|     559|      28|\n",
      "|     559|      12|\n",
      "+--------+--------+\n",
      "only showing top 20 rows\n",
      "\n"
     ]
    }
   ],
   "source": [
    "movies_genres = tmdbMovies.select(f.col(\"id\").alias(\"movie_id\"), f.explode(\"genres.id\").alias(\"genre_id\"))\n",
    "genres = tmdbMovies.withColumn(\"genres\", f.explode(\"genres\"))\\\n",
    ".select(f.col(\"genres.id\").alias(\"id\"), f.col(\"genres.name\").alias(\"name\"))\\\n",
    ".distinct()\n",
    "\n",
    "print(\"Genres\")\n",
    "genres.show()\n",
    "\n",
    "print(\"Movie-Genre\")\n",
    "movies_genres.show()"
   ]
  },
  {
   "cell_type": "markdown",
   "id": "3e6e0d53",
   "metadata": {},
   "source": [
    "### Lưu bảng genre và movie-genre vào thư mục lưu trữ"
   ]
  },
  {
   "cell_type": "code",
   "execution_count": 17,
   "id": "70c34d00",
   "metadata": {},
   "outputs": [],
   "source": [
    "genres.toPandas()\\\n",
    ".to_csv(\"./data/genres.csv\", index = False)\n",
    "\n",
    "movies_genres.toPandas()\\\n",
    ".to_csv(\"./data/movies_genres.csv\", index = True, index_label=\"id\")"
   ]
  },
  {
   "cell_type": "markdown",
   "id": "53bbe435",
   "metadata": {},
   "source": [
    "### Tương tự cho keyword và movie-keyword"
   ]
  },
  {
   "cell_type": "code",
   "execution_count": 18,
   "id": "05cd2bbf",
   "metadata": {},
   "outputs": [
    {
     "name": "stdout",
     "output_type": "stream",
     "text": [
      "Movie-Keyword\n",
      "+--------+----------+\n",
      "|movie_id|keyword_id|\n",
      "+--------+----------+\n",
      "|   19995|      1463|\n",
      "|   19995|      2964|\n",
      "|   19995|      3386|\n",
      "|   19995|      3388|\n",
      "|   19995|      3679|\n",
      "|   19995|      3801|\n",
      "|   19995|      9685|\n",
      "|   19995|      9840|\n",
      "|   19995|      9882|\n",
      "|   19995|      9951|\n",
      "|   19995|     10148|\n",
      "|   19995|     10158|\n",
      "|   19995|     10987|\n",
      "|   19995|     11399|\n",
      "|   19995|     13065|\n",
      "|   19995|     14643|\n",
      "|   19995|     14720|\n",
      "|   19995|    165431|\n",
      "|   19995|    193554|\n",
      "|   19995|    206690|\n",
      "+--------+----------+\n",
      "only showing top 20 rows\n",
      "\n",
      "Keyword (Max length 48)\n",
      "+------+--------------------+\n",
      "|    id|                 key|\n",
      "+------+--------------------+\n",
      "|  1585|               snake|\n",
      "| 13084|                king|\n",
      "|163014|      injured animal|\n",
      "| 15167|    police detective|\n",
      "|161868|child's point of ...|\n",
      "|  3298|       hallucination|\n",
      "|  1334|        wedding vows|\n",
      "|159548|            clouseau|\n",
      "|  2564|          wheelchair|\n",
      "|  2406|              picnic|\n",
      "|  3487|           assistant|\n",
      "|167642|         crop circle|\n",
      "|186425|        demon hunter|\n",
      "|162380|          ex soldier|\n",
      "|178378|       driving range|\n",
      "|  3012|          court case|\n",
      "|165461|               march|\n",
      "|162410|    exploding planet|\n",
      "|195162|      record company|\n",
      "| 12372|       lingerie slip|\n",
      "+------+--------------------+\n",
      "only showing top 20 rows\n",
      "\n"
     ]
    }
   ],
   "source": [
    "movies_keywords = tmdbMovies.select(f.col(\"id\").alias(\"movie_id\"), f.explode(\"keywords.id\").alias(\"keyword_id\"))\n",
    "\n",
    "keywords = tmdbMovies.withColumn(\"keywords\", f.explode(\"keywords\"))\\\n",
    ".select(f.col(\"keywords.id\").alias(\"id\"), f.col(\"keywords.name\").alias(\"key\"))\\\n",
    ".distinct()\n",
    "maxLengthKeyword = keywords.agg(f.max(f.length(f.col(\"key\"))).alias(\"max length\")).collect()[0][0]\n",
    "\n",
    "print(\"Movie-Keyword\")\n",
    "movies_keywords.show()\n",
    "\n",
    "print(f\"Keyword (Max length {maxLengthKeyword})\")\n",
    "keywords.show()"
   ]
  },
  {
   "cell_type": "code",
   "execution_count": 19,
   "id": "94d68fa3",
   "metadata": {},
   "outputs": [],
   "source": [
    "keywords.toPandas()\\\n",
    ".to_csv(\"./data/keywords.csv\", index = False)\n",
    "\n",
    "movies_keywords.toPandas()\\\n",
    ".to_csv(\"./data/movies_keywords.csv\", index = True, index_label=\"id\")"
   ]
  },
  {
   "cell_type": "markdown",
   "id": "488adc3e",
   "metadata": {},
   "source": [
    "## Demographic Filtering "
   ]
  },
  {
   "cell_type": "code",
   "execution_count": 20,
   "id": "2d8cd0e0",
   "metadata": {
    "scrolled": true
   },
   "outputs": [
    {
     "name": "stdout",
     "output_type": "stream",
     "text": [
      "+------+-------------------------------------------+----------+------------+\n",
      "|id    |title                                      |vote_count|vote_average|\n",
      "+------+-------------------------------------------+----------+------------+\n",
      "|19995 |Avatar                                     |11800     |7.2         |\n",
      "|285   |Pirates of the Caribbean: At World's End   |4500      |6.9         |\n",
      "|206647|Spectre                                    |4466      |6.3         |\n",
      "|49026 |The Dark Knight Rises                      |9106      |7.6         |\n",
      "|49529 |John Carter                                |2124      |6.1         |\n",
      "|559   |Spider-Man 3                               |3576      |5.9         |\n",
      "|38757 |Tangled                                    |3330      |7.4         |\n",
      "|99861 |Avengers: Age of Ultron                    |6767      |7.3         |\n",
      "|767   |Harry Potter and the Half-Blood Prince     |5293      |7.4         |\n",
      "|209112|Batman v Superman: Dawn of Justice         |7004      |5.7         |\n",
      "|1452  |Superman Returns                           |1400      |5.4         |\n",
      "|10764 |Quantum of Solace                          |2965      |6.1         |\n",
      "|58    |Pirates of the Caribbean: Dead Man's Chest |5246      |7.0         |\n",
      "|57201 |The Lone Ranger                            |2311      |5.9         |\n",
      "|49521 |Man of Steel                               |6359      |6.5         |\n",
      "|2454  |The Chronicles of Narnia: Prince Caspian   |1630      |6.3         |\n",
      "|24428 |The Avengers                               |11776     |7.4         |\n",
      "|1865  |Pirates of the Caribbean: On Stranger Tides|4948      |6.4         |\n",
      "|41154 |Men in Black 3                             |4160      |6.2         |\n",
      "|122917|The Hobbit: The Battle of the Five Armies  |4760      |7.1         |\n",
      "+------+-------------------------------------------+----------+------------+\n",
      "only showing top 20 rows\n",
      "\n"
     ]
    }
   ],
   "source": [
    "tmdbMovies.select(\"id\",\"title\",\"vote_count\",\"vote_average\").show(truncate=False)"
   ]
  },
  {
   "cell_type": "markdown",
   "id": "f0bcfc23",
   "metadata": {},
   "source": [
    "#### Vote trung bình"
   ]
  },
  {
   "cell_type": "code",
   "execution_count": 21,
   "id": "51e1a4b0",
   "metadata": {},
   "outputs": [
    {
     "data": {
      "text/plain": [
       "6.092171562405494"
      ]
     },
     "execution_count": 21,
     "metadata": {},
     "output_type": "execute_result"
    }
   ],
   "source": [
    "C = tmdbMovies.select(f.avg(\"vote_average\")).collect()[0][0]\n",
    "C"
   ]
  },
  {
   "cell_type": "markdown",
   "id": "96ec204d",
   "metadata": {},
   "source": [
    "#### Tính quantile của cột vote_count với giá trị 0.6"
   ]
  },
  {
   "cell_type": "code",
   "execution_count": 23,
   "id": "e59c1855",
   "metadata": {},
   "outputs": [
    {
     "data": {
      "text/plain": [
       "370.0"
      ]
     },
     "execution_count": 23,
     "metadata": {},
     "output_type": "execute_result"
    }
   ],
   "source": [
    "m = tmdbMovies.approxQuantile(\"vote_count\",[0.6], 0)[0]\n",
    "m"
   ]
  },
  {
   "cell_type": "markdown",
   "id": "debdd3d1",
   "metadata": {},
   "source": [
    "#### Hàm dùng để tính toán giá trị rating"
   ]
  },
  {
   "cell_type": "code",
   "execution_count": 24,
   "id": "2cfd2edc",
   "metadata": {},
   "outputs": [],
   "source": [
    "@f.udf\n",
    "def weighted_rating(v, R, m = m, C = C):\n",
    "    return (v/(v+m) * R) + (m/(m+v) * C)"
   ]
  },
  {
   "cell_type": "markdown",
   "id": "8ae3f5ca",
   "metadata": {},
   "source": [
    "### Thực hiện tính toán cho từng movie và hiển thị kết quả"
   ]
  },
  {
   "cell_type": "code",
   "execution_count": 25,
   "id": "381f80ca",
   "metadata": {
    "scrolled": true
   },
   "outputs": [
    {
     "name": "stdout",
     "output_type": "stream",
     "text": [
      "+------+--------------------+---------+\n",
      "|    id|               title|   rating|\n",
      "+------+--------------------+---------+\n",
      "|   278|The Shawshank Red...| 8.396106|\n",
      "|   238|       The Godfather|8.2636595|\n",
      "|   550|          Fight Club| 8.216498|\n",
      "|   680|        Pulp Fiction|8.2071495|\n",
      "|   155|     The Dark Knight| 8.136963|\n",
      "|   424|    Schindler's List| 8.126156|\n",
      "|244786|            Whiplash| 8.123336|\n",
      "|    13|        Forrest Gump| 8.106003|\n",
      "|   129|       Spirited Away| 8.105963|\n",
      "|   240|The Godfather: Pa...| 8.079694|\n",
      "|  1891|The Empire Strike...| 8.075196|\n",
      "| 27205|           Inception| 8.047395|\n",
      "|157336|        Interstellar| 8.033889|\n",
      "|   497|      The Green Mile| 8.023473|\n",
      "|   122|The Lord of the R...| 8.011917|\n",
      "|    11|           Star Wars| 7.993781|\n",
      "|   807|               Se7en| 7.978909|\n",
      "|   769|          GoodFellas| 7.977045|\n",
      "|    73|  American History X|7.9696703|\n",
      "|   510|One Flew Over the...|7.9628773|\n",
      "+------+--------------------+---------+\n",
      "only showing top 20 rows\n",
      "\n"
     ]
    },
    {
     "name": "stderr",
     "output_type": "stream",
     "text": [
      "\r",
      "[Stage 30:>                                                         (0 + 2) / 2]\r",
      "\r",
      "                                                                                \r"
     ]
    }
   ],
   "source": [
    "movies = tmdbMovies\\\n",
    ".withColumn(\"rating\", weighted_rating(\"vote_count\", \"vote_average\").cast(\"float\"))\\\n",
    ".orderBy(\"rating\", ascending=0)\n",
    "\n",
    "movies.select(\"id\",\"title\",\"rating\").show()"
   ]
  },
  {
   "cell_type": "markdown",
   "id": "70b8d0d9",
   "metadata": {},
   "source": [
    "### Thêm cột rating cho tmdbMovies DF"
   ]
  },
  {
   "cell_type": "code",
   "execution_count": 28,
   "id": "402ccf49",
   "metadata": {},
   "outputs": [],
   "source": [
    "tmdbMovies = tmdbMovies.join(movies.select(\"id\",\"rating\"), on=\"id\")"
   ]
  },
  {
   "cell_type": "markdown",
   "id": "8175e40e",
   "metadata": {},
   "source": [
    "### Lưu bảng movies vào thư mục"
   ]
  },
  {
   "cell_type": "code",
   "execution_count": 26,
   "id": "b2809328",
   "metadata": {},
   "outputs": [],
   "source": [
    "movies = movies\\\n",
    ".withColumn(\"rating\", f.round(f.col(\"rating\"),2))\\\n",
    ".select(\"id\",\"title\", \"original_language\",\"overview\",\"popularity\",\"release_date\",\"runtime\",\"tagline\",\"vote_count\",\"rating\")"
   ]
  },
  {
   "cell_type": "code",
   "execution_count": 27,
   "id": "3fe36a01",
   "metadata": {},
   "outputs": [],
   "source": [
    "movies.toPandas().to_csv(\"./data/movies.csv\", index = False)"
   ]
  },
  {
   "cell_type": "code",
   "execution_count": 32,
   "id": "8a4cf53e",
   "metadata": {},
   "outputs": [
    {
     "name": "stdout",
     "output_type": "stream",
     "text": [
      "+--------------------------------------------------+--------------------------------------------------+\n",
      "|                                              text|                                            words1|\n",
      "+--------------------------------------------------+--------------------------------------------------+\n",
      "|In the 22nd century, a paraplegic Marine is dis...|[in, the, 22nd, century,, a, paraplegic, marine...|\n",
      "|Captain Barbossa, long believed to be dead, has...|[captain, barbossa,, long, believed, to, be, de...|\n",
      "|A cryptic message from Bond’s past sends him on...|[a, cryptic, message, from, bond’s, past, sends...|\n",
      "|Following the death of District Attorney Harvey...|[following, the, death, of, district, attorney,...|\n",
      "|John Carter is a war-weary, former military cap...|[john, carter, is, a, war-weary,, former, milit...|\n",
      "|The seemingly invincible Spider-Man goes up aga...|[the, seemingly, invincible, spider-man, goes, ...|\n",
      "|When the kingdom's most wanted-and most charmin...|[when, the, kingdom's, most, wanted-and, most, ...|\n",
      "|When Tony Stark tries to jumpstart a dormant pe...|[when, tony, stark, tries, to, jumpstart, a, do...|\n",
      "|As Harry begins his sixth year at Hogwarts, he ...|[as, harry, begins, his, sixth, year, at, hogwa...|\n",
      "|Fearing the actions of a god-like Super Hero le...|[fearing, the, actions, of, a, god-like, super,...|\n",
      "|Superman returns to discover his 5-year absence...|[superman, returns, to, discover, his, 5-year, ...|\n",
      "|Quantum of Solace continues the adventures of J...|[quantum, of, solace, continues, the, adventure...|\n",
      "|Captain Jack Sparrow works his way out of a blo...|[captain, jack, sparrow, works, his, way, out, ...|\n",
      "|The Texas Rangers chase down a gang of outlaws ...|[the, texas, rangers, chase, down, a, gang, of,...|\n",
      "|A young boy learns that he has extraordinary po...|[a, young, boy, learns, that, he, has, extraord...|\n",
      "|One year after their incredible adventures in t...|[one, year, after, their, incredible, adventure...|\n",
      "|When an unexpected enemy emerges and threatens ...|[when, an, unexpected, enemy, emerges, and, thr...|\n",
      "|Captain Jack Sparrow crosses paths with a woman...|[captain, jack, sparrow, crosses, paths, with, ...|\n",
      "|Agents J (Will Smith) and K (Tommy Lee Jones) a...|[agents, j, (will, smith), and, k, (tommy, lee,...|\n",
      "|Immediately after the events of The Desolation ...|[immediately, after, the, events, of, the, deso...|\n",
      "+--------------------------------------------------+--------------------------------------------------+\n",
      "only showing top 20 rows\n",
      "\n"
     ]
    }
   ],
   "source": [
    "tokenizer = Tokenizer(inputCol=\"text\", outputCol=\"words1\").transform(\n",
    "    tmdbMovies.select(\"id\", \n",
    "        f.concat_ws(\" \", f.col(\"overview\"), f.concat_ws(\" \", f.col(\"keywords.name\"))).alias(\"text\"))\n",
    ")\n",
    "\n",
    "tokenizer.select(\"text\",\"words1\").show(truncate=50)"
   ]
  },
  {
   "cell_type": "code",
   "execution_count": 34,
   "id": "85655a4b",
   "metadata": {},
   "outputs": [
    {
     "name": "stdout",
     "output_type": "stream",
     "text": [
      "+----------------------------------------------------------------------------------------------------+\n",
      "|                                                                                              words2|\n",
      "+----------------------------------------------------------------------------------------------------+\n",
      "|[22nd, century,, paraplegic, marine, dispatched, moon, pandora, unique, mission,, becomes, torn, ...|\n",
      "|[captain, barbossa,, long, believed, dead,, come, back, life, headed, edge, earth, turner, elizab...|\n",
      "|[cryptic, message, bond’s, past, sends, trail, uncover, sinister, organization., m, battles, poli...|\n",
      "|[following, death, district, attorney, harvey, dent,, batman, assumes, responsibility, dent's, cr...|\n",
      "|[john, carter, war-weary,, former, military, captain, inexplicably, transported, mysterious, exot...|\n",
      "|[seemingly, invincible, spider-man, goes, all-new, crop, villain, –, including, shape-shifting, s...|\n",
      "|[kingdom's, wanted-and, charming-bandit, flynn, rider, hides, mysterious, tower,, taken, hostage,...|\n",
      "|[tony, stark, tries, jumpstart, dormant, peacekeeping, program,, things, go, awry, earth’s, might...|\n",
      "|[harry, begins, sixth, year, hogwarts,, discovers, old, book, marked, 'property, half-blood, prin...|\n",
      "|[fearing, actions, god-like, super, hero, left, unchecked,, gotham, city’s, formidable,, forceful...|\n",
      "|[superman, returns, discover, 5-year, absence, allowed, lex, luthor, walk, free,, closest, felt, ...|\n",
      "|[quantum, solace, continues, adventures, james, bond, casino, royale., betrayed, vesper,, woman, ...|\n",
      "|[captain, jack, sparrow, works, way, blood, debt, ghostly, davey, jones,, also, attempts, avoid, ...|\n",
      "|[texas, rangers, chase, gang, outlaws, led, butch, cavendish,, gang, ambushes, rangers,, seemingl...|\n",
      "|[young, boy, learns, extraordinary, powers, earth., young, man,, journeys, discover, came, sent, ...|\n",
      "|[one, year, incredible, adventures, lion,, witch, wardrobe,, peter,, edmund,, lucy, susan, pevens...|\n",
      "|[unexpected, enemy, emerges, threatens, global, safety, security,, nick, fury,, director, interna...|\n",
      "|[captain, jack, sparrow, crosses, paths, woman, past,, sure, love, --, ruthless, con, artist, usi...|\n",
      "|[agents, j, (will, smith), k, (tommy, lee, jones), back...in, time., j, seen, inexplicable, thing...|\n",
      "|[immediately, events, desolation, smaug,, bilbo, dwarves, try, defend, erebor's, mountain, treasu...|\n",
      "+----------------------------------------------------------------------------------------------------+\n",
      "only showing top 20 rows\n",
      "\n"
     ]
    }
   ],
   "source": [
    "stopwords_remover = StopWordsRemover(\n",
    "    inputCol=\"words1\", \n",
    "    outputCol=\"words2\", \n",
    "    stopWords=StopWordsRemover.loadDefaultStopWords(\"english\")\n",
    ").transform(tokenizer)\n",
    "\n",
    "stopwords_remover.select(\"words2\").show(truncate=100)"
   ]
  },
  {
   "cell_type": "code",
   "execution_count": 35,
   "id": "76b52264",
   "metadata": {},
   "outputs": [
    {
     "name": "stdout",
     "output_type": "stream",
     "text": [
      "+----------------------------------------------------------------------------------------------------+\n",
      "|                                                                                          vectorizer|\n",
      "+----------------------------------------------------------------------------------------------------+\n",
      "|(262144,[8005,19637,19684,23090,25337,45252,53989,78896,87325,89896,97376,116443,117217,140871,14...|\n",
      "|(262144,[6769,12336,29562,29955,41095,41198,45006,60825,62084,62606,63704,70152,74853,85281,10302...|\n",
      "|(262144,[6099,15377,15675,23783,23998,32890,40872,43756,52774,68538,85673,99696,99749,113919,1322...|\n",
      "|(262144,[3185,4738,6512,13956,16319,19684,33092,33260,33532,33803,47171,55411,63316,66053,68723,6...|\n",
      "|(262144,[2613,15885,18858,20287,22124,25337,44238,45006,45252,51284,52787,57234,58639,60080,60501...|\n",
      "|(262144,[6104,6696,25964,48102,48174,57146,58044,66663,68217,73531,74520,78955,81916,85939,86917,...|\n",
      "|(262144,[1232,2934,3329,4277,9129,11862,15668,17576,20606,29423,32913,33561,37351,38004,38299,385...|\n",
      "|(262144,[8402,10758,11490,19203,28700,29439,39353,51471,53366,56124,57146,62780,64741,77751,78852...|\n",
      "|(262144,[2820,3329,30084,33108,61031,82573,87762,105244,121593,135047,149147,154497,161495,161724...|\n",
      "|(262144,[1753,2307,3992,4738,8655,21823,31040,33532,36598,48174,58339,60080,62171,88505,89833,901...|\n",
      "|(262144,[8538,44954,48174,58339,60080,61116,67456,69180,75949,88505,88539,91301,105498,109753,114...|\n",
      "|(262144,[7484,13238,17213,19043,26815,34344,35502,40872,43756,51450,53240,54828,58590,81793,82237...|\n",
      "|(262144,[6978,12336,18603,29955,45006,51471,60825,62084,62606,84796,95019,96804,99031,103029,1165...|\n",
      "|(262144,[1232,7126,8287,9202,20371,20752,21823,30539,31026,33340,36944,43204,46292,58639,59100,65...|\n",
      "|(262144,[21570,33532,36225,58339,60080,63852,65844,69180,69949,70162,83753,94832,96075,97376,1054...|\n",
      "|(262144,[5935,5944,17213,21823,25456,28561,35509,36225,54476,60080,61901,70998,72163,75249,82318,...|\n",
      "|(262144,[8402,13981,21534,25000,26092,29439,37583,57146,60080,70162,73552,81386,83161,89833,93923...|\n",
      "|(262144,[8402,10723,29837,37041,61449,62084,62606,67009,75440,78448,86663,87325,91878,92925,99031...|\n",
      "|(262144,[9144,14273,21825,25337,34254,34568,36225,38640,39726,40872,41536,50415,50544,52914,53366...|\n",
      "|(262144,[535,3893,4646,7862,14247,14273,17826,23209,24471,25059,26710,30084,47084,51284,54176,603...|\n",
      "+----------------------------------------------------------------------------------------------------+\n",
      "only showing top 20 rows\n",
      "\n"
     ]
    }
   ],
   "source": [
    "tf = HashingTF(inputCol='words2', outputCol='vectorizer').transform(stopwords_remover)\n",
    "tf.select(\"vectorizer\").show(truncate=100)"
   ]
  },
  {
   "cell_type": "code",
   "execution_count": 37,
   "id": "f6e53ae2",
   "metadata": {},
   "outputs": [
    {
     "name": "stderr",
     "output_type": "stream",
     "text": [
      "\r",
      "[Stage 52:=============================>                            (1 + 1) / 2]\r",
      "\r",
      "                                                                                \r"
     ]
    },
    {
     "name": "stdout",
     "output_type": "stream",
     "text": [
      "+----------------------------------------------------------------------------------------------------+\n",
      "|                                                                                            features|\n",
      "+----------------------------------------------------------------------------------------------------+\n",
      "|(262144,[8005,19637,19684,23090,25337,45252,53989,78896,87325,89896,97376,116443,117217,140871,14...|\n",
      "|(262144,[6769,12336,29562,29955,41095,41198,45006,60825,62084,62606,63704,70152,74853,85281,10302...|\n",
      "|(262144,[6099,15377,15675,23783,23998,32890,40872,43756,52774,68538,85673,99696,99749,113919,1322...|\n",
      "|(262144,[3185,4738,6512,13956,16319,19684,33092,33260,33532,33803,47171,55411,63316,66053,68723,6...|\n",
      "|(262144,[2613,15885,18858,20287,22124,25337,44238,45006,45252,51284,52787,57234,58639,60080,60501...|\n",
      "|(262144,[6104,6696,25964,48102,48174,57146,58044,66663,68217,73531,74520,78955,81916,85939,86917,...|\n",
      "|(262144,[1232,2934,3329,4277,9129,11862,15668,17576,20606,29423,32913,33561,37351,38004,38299,385...|\n",
      "|(262144,[8402,10758,11490,19203,28700,29439,39353,51471,53366,56124,57146,62780,64741,77751,78852...|\n",
      "|(262144,[2820,3329,30084,33108,61031,82573,87762,105244,121593,135047,149147,154497,161495,161724...|\n",
      "|(262144,[1753,2307,3992,4738,8655,21823,31040,33532,36598,48174,58339,60080,62171,88505,89833,901...|\n",
      "|(262144,[8538,44954,48174,58339,60080,61116,67456,69180,75949,88505,88539,91301,105498,109753,114...|\n",
      "|(262144,[7484,13238,17213,19043,26815,34344,35502,40872,43756,51450,53240,54828,58590,81793,82237...|\n",
      "|(262144,[6978,12336,18603,29955,45006,51471,60825,62084,62606,84796,95019,96804,99031,103029,1165...|\n",
      "|(262144,[1232,7126,8287,9202,20371,20752,21823,30539,31026,33340,36944,43204,46292,58639,59100,65...|\n",
      "|(262144,[21570,33532,36225,58339,60080,63852,65844,69180,69949,70162,83753,94832,96075,97376,1054...|\n",
      "|(262144,[5935,5944,17213,21823,25456,28561,35509,36225,54476,60080,61901,70998,72163,75249,82318,...|\n",
      "|(262144,[8402,13981,21534,25000,26092,29439,37583,57146,60080,70162,73552,81386,83161,89833,93923...|\n",
      "|(262144,[8402,10723,29837,37041,61449,62084,62606,67009,75440,78448,86663,87325,91878,92925,99031...|\n",
      "|(262144,[9144,14273,21825,25337,34254,34568,36225,38640,39726,40872,41536,50415,50544,52914,53366...|\n",
      "|(262144,[535,3893,4646,7862,14247,14273,17826,23209,24471,25059,26710,30084,47084,51284,54176,603...|\n",
      "+----------------------------------------------------------------------------------------------------+\n",
      "only showing top 20 rows\n",
      "\n"
     ]
    },
    {
     "name": "stderr",
     "output_type": "stream",
     "text": [
      "22/01/18 10:24:57 WARN DAGScheduler: Broadcasting large task binary with size 4.1 MiB\n"
     ]
    }
   ],
   "source": [
    "idf = IDF(inputCol=\"vectorizer\", outputCol=\"features\").fit(tf)\n",
    "tfidf = idf.transform(tf).select(\"id\",\"features\")\n",
    "tfidf.select(\"features\").show(truncate=100)"
   ]
  },
  {
   "cell_type": "code",
   "execution_count": 38,
   "id": "44659f7c",
   "metadata": {},
   "outputs": [],
   "source": [
    "normalizer = Normalizer(inputCol = \"features\", outputCol = \"norm\")\n",
    "data = normalizer.transform(tfidf)"
   ]
  },
  {
   "cell_type": "code",
   "execution_count": 39,
   "id": "756a309d",
   "metadata": {},
   "outputs": [
    {
     "name": "stdout",
     "output_type": "stream",
     "text": [
      "+------+--------------------+--------------------+\n",
      "|    id|            features|                norm|\n",
      "+------+--------------------+--------------------+\n",
      "| 19995|(262144,[8005,196...|(262144,[8005,196...|\n",
      "|   285|(262144,[6769,123...|(262144,[6769,123...|\n",
      "|206647|(262144,[6099,153...|(262144,[6099,153...|\n",
      "| 49026|(262144,[3185,473...|(262144,[3185,473...|\n",
      "| 49529|(262144,[2613,158...|(262144,[2613,158...|\n",
      "|   559|(262144,[6104,669...|(262144,[6104,669...|\n",
      "| 38757|(262144,[1232,293...|(262144,[1232,293...|\n",
      "| 99861|(262144,[8402,107...|(262144,[8402,107...|\n",
      "|   767|(262144,[2820,332...|(262144,[2820,332...|\n",
      "|209112|(262144,[1753,230...|(262144,[1753,230...|\n",
      "|  1452|(262144,[8538,449...|(262144,[8538,449...|\n",
      "| 10764|(262144,[7484,132...|(262144,[7484,132...|\n",
      "|    58|(262144,[6978,123...|(262144,[6978,123...|\n",
      "| 57201|(262144,[1232,712...|(262144,[1232,712...|\n",
      "| 49521|(262144,[21570,33...|(262144,[21570,33...|\n",
      "|  2454|(262144,[5935,594...|(262144,[5935,594...|\n",
      "| 24428|(262144,[8402,139...|(262144,[8402,139...|\n",
      "|  1865|(262144,[8402,107...|(262144,[8402,107...|\n",
      "| 41154|(262144,[9144,142...|(262144,[9144,142...|\n",
      "|122917|(262144,[535,3893...|(262144,[535,3893...|\n",
      "+------+--------------------+--------------------+\n",
      "only showing top 20 rows\n",
      "\n"
     ]
    },
    {
     "name": "stderr",
     "output_type": "stream",
     "text": [
      "22/01/18 10:26:04 WARN DAGScheduler: Broadcasting large task binary with size 4.1 MiB\n"
     ]
    }
   ],
   "source": [
    "data.show()"
   ]
  },
  {
   "cell_type": "code",
   "execution_count": 40,
   "id": "10dcc4dc",
   "metadata": {},
   "outputs": [],
   "source": [
    "@f.udf\n",
    "def sim_cos(v1,v2):\n",
    "    try:\n",
    "        p = 2\n",
    "        return float(v1.dot(v2))/float(v1.norm(p)*v2.norm(p))\n",
    "    except:\n",
    "        return 0"
   ]
  },
  {
   "cell_type": "code",
   "execution_count": 41,
   "id": "9fc12460",
   "metadata": {},
   "outputs": [],
   "source": [
    "df1 = df2 = data.select(\"id\", \"norm\")\n",
    "df1 = df1.withColumnRenamed(\"id\",\"from_movie_id\").withColumnRenamed(\"norm\",\"norm1\")\n",
    "df2 = df2.withColumnRenamed(\"id\",\"to_movie_id\").withColumnRenamed(\"norm\",\"norm2\")\n",
    "\n",
    "sim_cos_values  = df1.join(df2, on=f.col(\"from_movie_id\") != f.col(\"to_movie_id\"))\\\n",
    ".withColumn(\"sim_cos\", sim_cos(f.col(\"norm1\"), f.col(\"norm2\")))\\\n",
    ".withColumn(\"sim_cos\", f.col(\"sim_cos\").cast(\"float\"))\\\n",
    ".select(\"from_movie_id\",\"to_movie_id\",\"sim_cos\")"
   ]
  },
  {
   "cell_type": "code",
   "execution_count": 42,
   "id": "69981f90",
   "metadata": {},
   "outputs": [
    {
     "name": "stdout",
     "output_type": "stream",
     "text": [
      "root\n",
      " |-- from_movie_id: string (nullable = true)\n",
      " |-- to_movie_id: string (nullable = true)\n",
      " |-- sim_cos: float (nullable = true)\n",
      "\n"
     ]
    }
   ],
   "source": [
    "sim_cos_values.printSchema()"
   ]
  },
  {
   "cell_type": "code",
   "execution_count": 31,
   "id": "183c9925",
   "metadata": {},
   "outputs": [],
   "source": [
    "window = Window.partitionBy(sim_cos_values[\"from_movie_id\"]).orderBy(sim_cos_values[\"sim_cos\"].desc())\n",
    "\n",
    "movieContentSimilar = sim_cos_values.withColumn(\"rank\", f.rank().over(window))\\\n",
    ".filter(f.col(\"rank\") <= 8)\\\n",
    ".select(\"from_movie_id\",\"to_movie_id\",\"sim_cos\")"
   ]
  },
  {
   "cell_type": "code",
   "execution_count": 32,
   "id": "43fc468a",
   "metadata": {},
   "outputs": [
    {
     "name": "stderr",
     "output_type": "stream",
     "text": [
      "22/01/15 22:49:28 WARN DAGScheduler: Broadcasting large task binary with size 4.0 MiB\n",
      "22/01/15 22:49:29 WARN DAGScheduler: Broadcasting large task binary with size 4.1 MiB\n",
      "22/01/15 23:20:58 WARN DAGScheduler: Broadcasting large task binary with size 4.1 MiB\n",
      "22/01/15 23:21:11 WARN TaskMemoryManager: Failed to allocate a page (134217728 bytes), try again.\n",
      "                                                                                \r"
     ]
    }
   ],
   "source": [
    "movieContentSimilar.toPandas()\\\n",
    ".to_csv(\"/home/hoangkhang/Projects/movies-recommendation/backend/data/similar_movies.csv\", index = True, index_label=\"id\")"
   ]
  },
  {
   "cell_type": "code",
   "execution_count": 34,
   "id": "ac4295ed",
   "metadata": {},
   "outputs": [],
   "source": [
    "ratingDF = spark.read.csv(path=\"./input/movies-data/ratings.csv\", header=True)"
   ]
  },
  {
   "cell_type": "code",
   "execution_count": 35,
   "id": "9b761ef2",
   "metadata": {},
   "outputs": [
    {
     "name": "stdout",
     "output_type": "stream",
     "text": [
      "+------+-------+------+----------+\n",
      "|userId|movieId|rating| timestamp|\n",
      "+------+-------+------+----------+\n",
      "|     1|    110|   1.0|1425941529|\n",
      "|     1|    147|   4.5|1425942435|\n",
      "|     1|    858|   5.0|1425941523|\n",
      "|     1|   1221|   5.0|1425941546|\n",
      "|     1|   1246|   5.0|1425941556|\n",
      "|     1|   1968|   4.0|1425942148|\n",
      "|     1|   2762|   4.5|1425941300|\n",
      "|     1|   2918|   5.0|1425941593|\n",
      "|     1|   2959|   4.0|1425941601|\n",
      "|     1|   4226|   4.0|1425942228|\n",
      "|     1|   4878|   5.0|1425941434|\n",
      "|     1|   5577|   5.0|1425941397|\n",
      "|     1|  33794|   4.0|1425942005|\n",
      "|     1|  54503|   3.5|1425941313|\n",
      "|     1|  58559|   4.0|1425942007|\n",
      "|     1|  59315|   5.0|1425941502|\n",
      "|     1|  68358|   5.0|1425941464|\n",
      "|     1|  69844|   5.0|1425942139|\n",
      "|     1|  73017|   5.0|1425942699|\n",
      "|     1|  81834|   5.0|1425942133|\n",
      "+------+-------+------+----------+\n",
      "only showing top 20 rows\n",
      "\n"
     ]
    }
   ],
   "source": [
    "ratingDF.show()"
   ]
  },
  {
   "cell_type": "code",
   "execution_count": 36,
   "id": "4cae32b7",
   "metadata": {},
   "outputs": [
    {
     "name": "stderr",
     "output_type": "stream",
     "text": [
      "                                                                                \r"
     ]
    }
   ],
   "source": [
    "ratingDF = tmdbMovies.select(\"id\").join(ratingDF, on=f.col(\"id\") == f.col(\"movieId\"))\n",
    "ratingDF = ratingDF.select(\"userId\",\"movieId\",\"rating\")\n",
    "ratingDF.toPandas().to_csv(\"./input/tmdb 5000 movie/ratings.csv\", index=False)"
   ]
  },
  {
   "cell_type": "code",
   "execution_count": 37,
   "id": "37f0c31e",
   "metadata": {},
   "outputs": [],
   "source": [
    "from pyspark.ml.recommendation import ALS\n",
    "from pyspark.ml.evaluation import RegressionEvaluator\n",
    "from pyspark.ml.tuning import ParamGridBuilder, CrossValidator"
   ]
  },
  {
   "cell_type": "code",
   "execution_count": 38,
   "id": "8700f233",
   "metadata": {},
   "outputs": [],
   "source": [
    "schema = StructType([\n",
    "    StructField(\"userId\", IntegerType(), nullable=False),\n",
    "    StructField(\"movieId\", IntegerType(), nullable=False),\n",
    "    StructField(\"rating\", FloatType(), nullable=False)\n",
    "])\n",
    "movie_ratings = spark.read.csv(path=\"./input/tmdb 5000 movie/ratings.csv\", header=True, schema=schema)"
   ]
  },
  {
   "cell_type": "code",
   "execution_count": 39,
   "id": "e0a49001",
   "metadata": {},
   "outputs": [
    {
     "name": "stdout",
     "output_type": "stream",
     "text": [
      "root\n",
      " |-- userId: integer (nullable = true)\n",
      " |-- movieId: integer (nullable = true)\n",
      " |-- rating: float (nullable = true)\n",
      "\n",
      "+------+-------+------+\n",
      "|userId|movieId|rating|\n",
      "+------+-------+------+\n",
      "|     1|   1246|   5.0|\n",
      "|     1|   2959|   4.0|\n",
      "|     2|      5|   3.0|\n",
      "|     2|     25|   3.0|\n",
      "|     2|     58|   3.0|\n",
      "|     2|     79|   4.0|\n",
      "|     2|    141|   3.0|\n",
      "|     2|    377|   4.0|\n",
      "|     2|    605|   4.0|\n",
      "|     2|    628|   4.0|\n",
      "|     2|    762|   3.0|\n",
      "|     2|    786|   1.0|\n",
      "|     2|    788|   1.0|\n",
      "|     3|    480|   3.0|\n",
      "|     3|    500|   2.0|\n",
      "|     3|   4474|   3.0|\n",
      "|     4|    223|   4.0|\n",
      "|     4|    415|   4.0|\n",
      "|     4|   1422|   4.0|\n",
      "|     4|   1597|   3.0|\n",
      "+------+-------+------+\n",
      "only showing top 20 rows\n",
      "\n"
     ]
    },
    {
     "data": {
      "text/plain": [
       "4655281"
      ]
     },
     "execution_count": 39,
     "metadata": {},
     "output_type": "execute_result"
    }
   ],
   "source": [
    "movie_ratings.printSchema()\n",
    "movie_ratings.show()\n",
    "movie_ratings.count()"
   ]
  },
  {
   "cell_type": "code",
   "execution_count": 40,
   "id": "f813d86e",
   "metadata": {},
   "outputs": [
    {
     "name": "stderr",
     "output_type": "stream",
     "text": [
      "[Stage 726:==============>                                          (1 + 3) / 4]\r"
     ]
    },
    {
     "name": "stdout",
     "output_type": "stream",
     "text": [
      "The ratings dataframe is 98.61% sparse.\n"
     ]
    },
    {
     "name": "stderr",
     "output_type": "stream",
     "text": [
      "\r",
      "                                                                                \r"
     ]
    }
   ],
   "source": [
    "def get_mat_sparsity(ratings):\n",
    "    count_nonzero = ratings.select(\"rating\").count()\n",
    "    total_elements = ratings.select(\"userId\").distinct().count() * ratings.select(\"movieId\").distinct().count()\n",
    "    sparsity = (1.0 - (count_nonzero * 1.0) / total_elements) * 100\n",
    "    print(f\"The ratings dataframe is {round(sparsity, 2)}% sparse.\")\n",
    "    \n",
    "get_mat_sparsity(ratings=movie_ratings)"
   ]
  },
  {
   "cell_type": "code",
   "execution_count": 41,
   "id": "f6a72c75",
   "metadata": {},
   "outputs": [],
   "source": [
    "seed = 2022\n",
    "(training, testing) = movie_ratings.randomSplit([0.8,0.2], seed=2022)"
   ]
  },
  {
   "cell_type": "code",
   "execution_count": 43,
   "id": "84678309",
   "metadata": {},
   "outputs": [
    {
     "name": "stderr",
     "output_type": "stream",
     "text": [
      "                                                                                \r"
     ]
    },
    {
     "name": "stdout",
     "output_type": "stream",
     "text": [
      "For rank 3 the RMSE is 0.8916174158450135\n"
     ]
    },
    {
     "name": "stderr",
     "output_type": "stream",
     "text": [
      "                                                                                \r"
     ]
    },
    {
     "name": "stdout",
     "output_type": "stream",
     "text": [
      "For rank 5 the RMSE is 0.8864718333088998\n"
     ]
    },
    {
     "name": "stderr",
     "output_type": "stream",
     "text": [
      "                                                                                \r"
     ]
    },
    {
     "name": "stdout",
     "output_type": "stream",
     "text": [
      "For rank 8 the RMSE is 0.8953218422811495\n",
      "The best model was trained with rank 5\n"
     ]
    },
    {
     "name": "stderr",
     "output_type": "stream",
     "text": [
      "\r",
      "[Stage 1216:>                                                       (0 + 4) / 4]\r",
      "\r",
      "                                                                                \r"
     ]
    }
   ],
   "source": [
    "als = ALS(userCol=\"userId\", \n",
    "          itemCol=\"movieId\", \n",
    "          ratingCol=\"rating\", \n",
    "          coldStartStrategy=\"drop\", \n",
    "          nonnegative=True, \n",
    "          maxIter=5,\n",
    "          seed=seed,\n",
    "          regParam=0.1,\n",
    "          implicitPrefs= False)\n",
    "\n",
    "reg_eval = RegressionEvaluator(predictionCol=\"prediction\", labelCol=\"rating\", metricName=\"rmse\")\n",
    "\n",
    "ranks = [3, 5, 8]\n",
    "errors = [0, 0, 0]\n",
    "models = [0, 0, 0]\n",
    "err = 0\n",
    "min_error = float('inf')\n",
    "best_rank = -1\n",
    "for rank in ranks:\n",
    "    als.setRank(rank)\n",
    "    model = als.fit(training)\n",
    "    # Run the model to create a prediction. Predict against the validation_df.\n",
    "    predict_df = model.transform(testing)\n",
    "\n",
    "    # Remove NaN values from prediction (due to SPARK-14489)\n",
    "    predicted_ratings_df = predict_df.filter(predict_df.prediction != float('nan'))\n",
    "\n",
    "    # Run the previously created RMSE evaluator, reg_eval, on the predicted_ratings_df DataFrame\n",
    "    error = reg_eval.evaluate(predict_df)\n",
    "    errors[err] = error\n",
    "    models[err] = model\n",
    "    print(f'For rank {rank} the RMSE is {error}')\n",
    "    if error < min_error:\n",
    "        min_error = error\n",
    "        best_rank = err\n",
    "    err += 1\n",
    "\n",
    "als.setRank(ranks[best_rank])\n",
    "print(f'The best model was trained with rank {ranks[best_rank]}')\n",
    "my_model = models[best_rank]"
   ]
  },
  {
   "cell_type": "code",
   "execution_count": 47,
   "id": "765665be",
   "metadata": {},
   "outputs": [
    {
     "name": "stdout",
     "output_type": "stream",
     "text": [
      "MaxIter: 5\n",
      "RegParm: 0.1\n"
     ]
    }
   ],
   "source": [
    "print(f\"MaxIter: {my_model._java_obj.parent().getMaxIter()}\")\n",
    "print(f\"RegParm: {my_model._java_obj.parent().getRegParam()}\")"
   ]
  },
  {
   "cell_type": "code",
   "execution_count": 54,
   "id": "d5994fa5",
   "metadata": {},
   "outputs": [
    {
     "name": "stderr",
     "output_type": "stream",
     "text": [
      "/home/hoangkhang/.local/lib/python3.8/site-packages/pyspark/sql/context.py:125: FutureWarning: Deprecated in 3.0.0. Use SparkSession.builder.getOrCreate() instead.\n",
      "  warnings.warn(\n",
      "[Stage 1346:====================================================>(99 + 1) / 100]\r"
     ]
    },
    {
     "name": "stdout",
     "output_type": "stream",
     "text": [
      "+------+-------------------------------------------------------------+\n",
      "|userId|                                              recommendations|\n",
      "+------+-------------------------------------------------------------+\n",
      "|     1|   [{130150, 6.00465}, {86829, 5.304157}, {60309, 5.0171995}]|\n",
      "|     6|  [{130150, 3.631001}, {86829, 3.5607057}, {60309, 3.048162}]|\n",
      "|    12|[{110415, 4.9515705}, {88005, 4.8444214}, {158852, 4.842569}]|\n",
      "|    13|[{62206, 6.0224953}, {110415, 5.769824}, {153158, 5.2702246}]|\n",
      "|    16|   [{130150, 6.0109015}, {2959, 5.0322866}, {5971, 4.957446}]|\n",
      "|    22|    [{62206, 6.548557}, {86829, 5.5066853}, {1724, 4.829375}]|\n",
      "|    27| [{153158, 5.094948}, {96724, 5.0937023}, {88005, 4.8653736}]|\n",
      "|    28|   [{2959, 3.9354534}, {130150, 3.9255168}, {296, 3.7827373}]|\n",
      "|    31|   [{62206, 6.593297}, {110415, 6.12729}, {153158, 5.920595}]|\n",
      "|    34|     [{130150, 5.28414}, {2959, 4.8616714}, {296, 4.6789007}]|\n",
      "|    44|  [{110415, 6.3511386}, {153158, 5.8823776}, {787, 5.725555}]|\n",
      "|    47| [{130150, 5.0477858}, {96724, 4.598743}, {153158, 4.572828}]|\n",
      "|    52|  [{130150, 4.1069345}, {86829, 3.7132475}, {1830, 3.691859}]|\n",
      "|    53|   [{130150, 5.873526}, {86829, 4.8470964}, {1262, 4.726043}]|\n",
      "|    65|   [{130150, 5.273475}, {44555, 4.3207264}, {5971, 4.319136}]|\n",
      "|    76|   [{86829, 4.458319}, {130150, 3.8994682}, {480, 3.5818222}]|\n",
      "|    78|   [{130150, 2.9895139}, {1830, 2.883288}, {8699, 2.7168622}]|\n",
      "|    81|  [{130150, 3.614163}, {86829, 3.2969203}, {2959, 3.2705226}]|\n",
      "|    85|  [{130150, 5.4279714}, {86829, 4.6431775}, {953, 4.3249044}]|\n",
      "|    86|   [{1830, 4.7656193}, {130150, 4.16888}, {60421, 4.0548606}]|\n",
      "+------+-------------------------------------------------------------+\n",
      "only showing top 20 rows\n",
      "\n"
     ]
    },
    {
     "name": "stderr",
     "output_type": "stream",
     "text": [
      "\r",
      "                                                                                \r"
     ]
    }
   ],
   "source": [
    "all_user_recommendations = my_model.recommendForAllUsers(3)\n",
    "all_user_recommendations.show(truncate=100)"
   ]
  },
  {
   "cell_type": "code",
   "execution_count": 55,
   "id": "467498d9",
   "metadata": {},
   "outputs": [
    {
     "name": "stderr",
     "output_type": "stream",
     "text": [
      "[Stage 1375:===================================================> (98 + 2) / 100]\r"
     ]
    },
    {
     "name": "stdout",
     "output_type": "stream",
     "text": [
      "+------+-------+---------+\n",
      "|userId|movieId|   rating|\n",
      "+------+-------+---------+\n",
      "|     1| 130150|  6.00465|\n",
      "|     1|  86829| 5.304157|\n",
      "|     1|  60309|5.0171995|\n",
      "|     6| 130150| 3.631001|\n",
      "|     6|  86829|3.5607057|\n",
      "|     6|  60309| 3.048162|\n",
      "|    12| 110415|4.9515705|\n",
      "|    12|  88005|4.8444214|\n",
      "|    12| 158852| 4.842569|\n",
      "|    13|  62206|6.0224953|\n",
      "|    13| 110415| 5.769824|\n",
      "|    13| 153158|5.2702246|\n",
      "|    16| 130150|6.0109015|\n",
      "|    16|   2959|5.0322866|\n",
      "|    16|   5971| 4.957446|\n",
      "|    22|  62206| 6.548557|\n",
      "|    22|  86829|5.5066853|\n",
      "|    22|   1724| 4.829375|\n",
      "|    27| 153158| 5.094948|\n",
      "|    27|  96724|5.0937023|\n",
      "+------+-------+---------+\n",
      "only showing top 20 rows\n",
      "\n"
     ]
    },
    {
     "name": "stderr",
     "output_type": "stream",
     "text": [
      "\r",
      "                                                                                \r"
     ]
    }
   ],
   "source": [
    "all_user_recommendations = all_user_recommendations.withColumn(\"rec_exp\", f.explode(\"recommendations\"))\\\n",
    ".select(\"userId\",\"rec_exp.movieId\",\"rec_exp.rating\")\n",
    "all_user_recommendations.show()"
   ]
  },
  {
   "cell_type": "code",
   "execution_count": 59,
   "id": "0a8e9c26",
   "metadata": {},
   "outputs": [
    {
     "name": "stderr",
     "output_type": "stream",
     "text": [
      "[Stage 1491:================================================>    (92 + 4) / 100]\r"
     ]
    },
    {
     "name": "stdout",
     "output_type": "stream",
     "text": [
      "[130150, 86829, 60309]\n"
     ]
    },
    {
     "name": "stderr",
     "output_type": "stream",
     "text": [
      "\r",
      "[Stage 1491:===================================================> (97 + 3) / 100]\r",
      "\r",
      "                                                                                \r"
     ]
    }
   ],
   "source": [
    "user_1_recommendations = [row.movieId for row in all_user_recommendations.filter(f\"userId == {1}\").collect()] \n",
    "print(user_1_recommendations)"
   ]
  },
  {
   "cell_type": "code",
   "execution_count": 51,
   "id": "82992870",
   "metadata": {},
   "outputs": [
    {
     "name": "stderr",
     "output_type": "stream",
     "text": [
      "                                                                                \r"
     ]
    },
    {
     "name": "stdout",
     "output_type": "stream",
     "text": [
      "+------+-------+---------+---------------------+---------------------------------------+\n",
      "|userId|movieId|   rating|                title|                                 genres|\n",
      "+------+-------+---------+---------------------+---------------------------------------+\n",
      "|     1| 130150|  6.00465|            Labor Day|                                  Drama|\n",
      "|     1|  86829| 5.304157|  Inside Llewyn Davis|                            Drama|Music|\n",
      "|     1|  60309|5.0171995|      The Conspirator|                    Crime|Drama|History|\n",
      "|     1|  96724| 4.907068|        Anna Karenina|                          Drama|Romance|\n",
      "|     1|     73| 4.869559|   American History X|                                  Drama|\n",
      "|     1|    593|4.8687935|              Solaris|Drama|Science Fiction|Adventure|Mystery|\n",
      "|     1|    116|4.8533626|          Match Point|           Drama|Thriller|Crime|Romance|\n",
      "|     1|    590| 4.850157|            The Hours|                                  Drama|\n",
      "|     1|     62| 4.845871|2001: A Space Odyssey|      Science Fiction|Mystery|Adventure|\n",
      "|     1|    508| 4.804936|        Love Actually|                   Comedy|Romance|Drama|\n",
      "|     6| 130150| 3.631001|            Labor Day|                                  Drama|\n",
      "|     6|  86829|3.5607057|  Inside Llewyn Davis|                            Drama|Music|\n",
      "|     6|  60309| 3.048162|      The Conspirator|                    Crime|Drama|History|\n",
      "|     6|     62|3.0308864|2001: A Space Odyssey|      Science Fiction|Mystery|Adventure|\n",
      "|     6|    364|3.0071847|       Batman Returns|                         Action|Fantasy|\n",
      "|     6|    593|3.0013392|              Solaris|Drama|Science Fiction|Adventure|Mystery|\n",
      "|     6|    590|2.9605746|            The Hours|                                  Drama|\n",
      "|     6|    161|2.9584272|       Ocean's Eleven|                         Thriller|Crime|\n",
      "|     6|    595|2.9583874|To Kill a Mockingbird|                            Crime|Drama|\n",
      "|     6|    588|2.9372478|          Silent Hill|                         Horror|Mystery|\n",
      "+------+-------+---------+---------------------+---------------------------------------+\n",
      "only showing top 20 rows\n",
      "\n"
     ]
    }
   ],
   "source": [
    "all_user_recommendations = all_user_recommendations\\\n",
    ".join(tmdbMovies.withColumnRenamed(\"id\",\"movieId\"), on=\"movieId\")\\\n",
    ".select(\"userId\", \"movieId\", \"rating\", \"title\", f.concat_ws(\"|\", \"genres.name\").alias(\"genres\"))\n",
    "\n",
    "all_user_recommendations.show(truncate=100)"
   ]
  },
  {
   "cell_type": "code",
   "execution_count": 53,
   "id": "df373b43",
   "metadata": {},
   "outputs": [
    {
     "name": "stderr",
     "output_type": "stream",
     "text": [
      "                                                                                \r"
     ]
    }
   ],
   "source": [
    "my_model.write().overwrite().save(\"/home/hoangkhang/Projects/movies-recommendation/backend/mlmodel\")"
   ]
  },
  {
   "cell_type": "code",
   "execution_count": 105,
   "id": "411117b7",
   "metadata": {},
   "outputs": [],
   "source": [
    "top_movies = tmdbMovies.filter((f.col(\"rating\") > 7)).withColumnRenamed(\"id\", \"movieId\").select(\"movieId\")\n",
    "top_movie_ratings = top_movies.join(movie_ratings, on=\"movieId\")\n",
    "\n",
    "top_movies\\\n",
    ".toPandas().to_csv(\"/home/hoangkhang/Projects/movies-recommendation/backend/data/top_movie/movie.csv\", index = False)\n",
    "\n",
    "top_movie_ratings\\\n",
    ".toPandas().to_csv(\"/home/hoangkhang/Projects/movies-recommendation/backend/data/top_movie/ratings.csv\", index = False)"
   ]
  },
  {
   "cell_type": "code",
   "execution_count": null,
   "id": "3d1843d9",
   "metadata": {},
   "outputs": [],
   "source": []
  }
 ],
 "metadata": {
  "kernelspec": {
   "display_name": "Python 3 (ipykernel)",
   "language": "python",
   "name": "python3"
  },
  "language_info": {
   "codemirror_mode": {
    "name": "ipython",
    "version": 3
   },
   "file_extension": ".py",
   "mimetype": "text/x-python",
   "name": "python",
   "nbconvert_exporter": "python",
   "pygments_lexer": "ipython3",
   "version": "3.8.10"
  }
 },
 "nbformat": 4,
 "nbformat_minor": 5
}
